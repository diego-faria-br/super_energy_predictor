{
 "cells": [
  {
   "cell_type": "code",
   "execution_count": 3,
   "id": "3c9db943",
   "metadata": {},
   "outputs": [],
   "source": [
    "import numpy as np # linear algebra\n",
    "import pandas as pd # data processing, CSV file I/O (e.g. pd.read_csv)\n",
    "import matplotlib.pyplot as plt\n",
    "import seaborn as sns\n",
    "import gc, math\n",
    "\n",
    "from pandas.tseries.holiday import USFederalHolidayCalendar as calendar\n",
    "from sklearn.metrics import mean_squared_error\n",
    "import lightgbm as lgb\n",
    "from sklearn.model_selection import KFold, StratifiedKFold, GroupKFold\n",
    "from tqdm import tqdm\n",
    "from sklearn.preprocessing import LabelEncoder"
   ]
  },
  {
   "cell_type": "markdown",
   "id": "3d8e36e2",
   "metadata": {},
   "source": [
    "# Preprocessing Test"
   ]
  },
  {
   "cell_type": "code",
   "execution_count": 5,
   "id": "5af1105d",
   "metadata": {},
   "outputs": [],
   "source": [
    "def preprocess(X):\n",
    "\n",
    "    weather_preproc = pd.read_csv('../raw_data/weather_preproc.csv', parse_dates=['timestamp'])\n",
    "\n",
    "    building_preproc = pd.read_csv(\"../raw_data/building_preproc.csv\")\n",
    "\n",
    "\n",
    "    X = pd.DataFrame.from_dict(X)\n",
    "    \n",
    "    X['timestamp'] = pd.to_datetime(X.timestamp)\n",
    "    row = X.merge(building_preproc.iloc[:,1:], on='building_id', how='left')\n",
    "\n",
    "    row = row.merge(weather_preproc.iloc[:,1:], on=['site_id', 'timestamp'], how='left')\n",
    "\n",
    "    beaufort = [(0, 0, 0.3), (1, 0.3, 1.6), (2, 1.6, 3.4), (3, 3.4, 5.5), (4, 5.5, 8), (5, 8, 10.8), (6, 10.8, 13.9), \n",
    "              (7, 13.9, 17.2), (8, 17.2, 20.8), (9, 20.8, 24.5), (10, 24.5, 28.5), (11, 28.5, 33), (12, 33, 200)]\n",
    "\n",
    "    for item in beaufort:\n",
    "        row.loc[(row['wind_speed']>=item[1]) & (row['wind_speed']<item[2]), 'beaufort_scale'] = item[0]\n",
    "\n",
    "    row[\"timestamp\"] = pd.to_datetime(row[\"timestamp\"])\n",
    "\n",
    "    def transform(df):\n",
    "        df['hour'] = np.uint8(df['timestamp'].dt.hour)\n",
    "        df['day'] = np.uint8(df['timestamp'].dt.day)\n",
    "        df['weekday'] = np.uint8(df['timestamp'].dt.weekday)\n",
    "        df['month'] = np.uint8(df['timestamp'].dt.month)\n",
    "        df['year'] = np.uint8(df['timestamp'].dt.year-1900)\n",
    "\n",
    "        df['square_feet'] = np.log(df['square_feet'])\n",
    "\n",
    "        return df\n",
    "\n",
    "    row = transform(row)\n",
    "\n",
    "    def encode_cyclic_feature(df, col, max_vals):\n",
    "        df[col + '_sin'] = np.sin(2 * np.pi * df[col]/max_vals)\n",
    "    #     df[col + '_cos'] = np.cos(2 * np.pi * df[col]/max_vals)\n",
    "        del df[col]\n",
    "        return df\n",
    "\n",
    "    dates_range = pd.date_range(start='2015-12-31', end='2019-01-01')\n",
    "    us_holidays = calendar().holidays(start=dates_range.min(), end=dates_range.max())\n",
    "\n",
    "    row['is_holiday'] = (row['timestamp'].dt.date.astype('datetime64').isin(us_holidays)).astype(np.int8)\n",
    "    row['is_holiday'] = (row['timestamp'].dt.date.astype('datetime64').isin(us_holidays)).astype(np.int8)\n",
    "\n",
    "    row.loc[(row['weekday']) == 5 | (row['weekday'] == 6) , 'is_holiday'] = 1\n",
    "\n",
    "    row = row.drop(['timestamp'], axis=1)\n",
    "\n",
    "    row = encode_cyclic_feature(row, 'weekday', 7)\n",
    "    row = encode_cyclic_feature(row, 'hour', 24)\n",
    "    row = encode_cyclic_feature(row, 'day', 31)\n",
    "    row = encode_cyclic_feature(row, 'month', 12)\n",
    "\n",
    "    row = row.loc[:,['site_id', 'building_id', 'primary_use', 'meter', 'wind_direction',\n",
    "           'is_holiday', 'square_feet', 'year_built', 'air_temperature',\n",
    "           'cloud_coverage', 'dew_temperature', 'precip_depth_1_hr', 'floor_count',\n",
    "           'beaufort_scale', 'weekday_sin', 'day_sin', 'hour_sin', 'month_sin']]\n",
    "    return row"
   ]
  },
  {
   "cell_type": "code",
   "execution_count": 11,
   "id": "e197e232",
   "metadata": {},
   "outputs": [],
   "source": [
    "X = preprocess(X)"
   ]
  },
  {
   "cell_type": "code",
   "execution_count": 3,
   "id": "d67ed16a",
   "metadata": {},
   "outputs": [],
   "source": [
    "def pred(X):\n",
    "    model1 = lgb.Booster(model_file='model1.txt')\n",
    "    model2 = lgb.Booster(model_file='model2.txt')\n",
    "    y_pred = (model1.predict(X)+model2.predict(X))/2\n",
    "    \n",
    "    #to_return = {'meter_reading':float(y_pred)}\n",
    "\n",
    "    return y_pred"
   ]
  },
  {
   "cell_type": "markdown",
   "id": "e41d77bf",
   "metadata": {},
   "source": [
    "## Monthly Prediction"
   ]
  },
  {
   "cell_type": "code",
   "execution_count": 11,
   "id": "2c1554bc",
   "metadata": {},
   "outputs": [],
   "source": [
    "def compare(building1: int,\n",
    "            building2: int,\n",
    "            meter: int,\n",
    "            initial_date: str,\n",
    "            final_date: str):\n",
    "\n",
    "    initial_timestamp = initial_date +' '+\"0:00\"\n",
    "    final_timestamp = final_date + ' '+ \"23:00\"\n",
    "\n",
    "    dates = pd.date_range(initial_timestamp, final_timestamp, freq=\"1h\")\n",
    "\n",
    "    input_values1=pd.DataFrame(dates)\n",
    "    input_values1['building_id'] = building1\n",
    "    input_values1['meter'] = meter\n",
    "    input_values1 = input_values1.iloc[:,[1,2,0]]\n",
    "    input_values1 = input_values1.rename(columns={0:'timestamp'})\n",
    "\n",
    "    input_values2=pd.DataFrame(dates)\n",
    "    input_values2['building_id'] = building2\n",
    "    input_values2['meter'] = meter\n",
    "    input_values2 = input_values2.iloc[:,[1,2,0]]\n",
    "    input_values2 = input_values2.rename(columns={0:'timestamp'})\n",
    "\n",
    "    X1 = preprocess(input_values1)\n",
    "    X2 = preprocess(input_values2)\n",
    "\n",
    "    model1 = lgb.Booster(model_file='model1.txt')\n",
    "    model2 = lgb.Booster(model_file='model2.txt')\n",
    "\n",
    "    y_pred1 = (model1.predict(X1)+model2.predict(X1))/2\n",
    "\n",
    "    y_pred2 = (model1.predict(X2)+model2.predict(X2))/2\n",
    "\n",
    "    consq1 = y_pred1/X1.square_feet\n",
    "    consq2= y_pred2/X2.square_feet\n",
    "    print(type(consq1))\n",
    "    print(type(consq2))\n",
    "    print(consq1)\n",
    "    print(consq2)\n",
    "\n",
    "    y =  pd.DataFrame({'cons_kwh1':y_pred1,\n",
    "                       'cons_square_feet1':list(consq1),\n",
    "                       'cons_kwh2':y_pred2,\n",
    "                       'cons_square_feet2':list(consq2)}, index = input_values1.timestamp)\n",
    "\n",
    "    y_json = y.to_json()\n",
    "\n",
    "    return y_json"
   ]
  },
  {
   "cell_type": "code",
   "execution_count": 12,
   "id": "7a122891",
   "metadata": {},
   "outputs": [
    {
     "name": "stdout",
     "output_type": "stream",
     "text": [
      "<class 'pandas.core.series.Series'>\n",
      "<class 'pandas.core.series.Series'>\n",
      "0     0.477569\n",
      "1     0.475796\n",
      "2     0.480506\n",
      "3     0.480071\n",
      "4     0.480937\n",
      "5     0.480666\n",
      "6     0.479729\n",
      "7     0.479281\n",
      "8     0.480670\n",
      "9     0.478553\n",
      "10    0.479173\n",
      "11    0.477875\n",
      "12    0.484495\n",
      "13    0.489562\n",
      "14    0.492706\n",
      "15    0.494540\n",
      "16    0.494081\n",
      "17    0.495343\n",
      "18    0.494081\n",
      "19    0.493678\n",
      "20    0.493666\n",
      "21    0.485429\n",
      "22    0.483018\n",
      "23    0.472575\n",
      "Name: square_feet, dtype: float64\n",
      "0     0.422469\n",
      "1     0.422609\n",
      "2     0.420374\n",
      "3     0.420245\n",
      "4     0.419311\n",
      "5     0.419267\n",
      "6     0.419852\n",
      "7     0.419826\n",
      "8     0.419830\n",
      "9     0.419418\n",
      "10    0.420157\n",
      "11    0.422187\n",
      "12    0.422376\n",
      "13    0.427316\n",
      "14    0.439046\n",
      "15    0.438482\n",
      "16    0.440274\n",
      "17    0.440079\n",
      "18    0.439344\n",
      "19    0.440709\n",
      "20    0.440157\n",
      "21    0.437900\n",
      "22    0.437522\n",
      "23    0.426779\n",
      "Name: square_feet, dtype: float64\n"
     ]
    }
   ],
   "source": [
    "y_json = compare(100,200,0,\"2017-01-01\",\"2017-01-01\")"
   ]
  },
  {
   "cell_type": "code",
   "execution_count": 13,
   "id": "c45df6ad",
   "metadata": {},
   "outputs": [
    {
     "data": {
      "text/plain": [
       "'{\"cons_kwh1\":{\"1483228800000\":4.8256610026,\"1483232400000\":4.8077429341,\"1483236000000\":4.855338636,\"1483239600000\":4.850941551,\"1483243200000\":4.8596946702,\"1483246800000\":4.8569553619,\"1483250400000\":4.8474871268,\"1483254000000\":4.8429583682,\"1483257600000\":4.8569942702,\"1483261200000\":4.8356056617,\"1483264800000\":4.841870767,\"1483268400000\":4.8287527103,\"1483272000000\":4.8956394595,\"1483275600000\":4.9468426518,\"1483279200000\":4.9786090664,\"1483282800000\":4.9971406579,\"1483286400000\":4.9925087577,\"1483290000000\":5.0052577673,\"1483293600000\":4.9925087577,\"1483297200000\":4.9884324519,\"1483300800000\":4.9883112142,\"1483304400000\":4.9050841032,\"1483308000000\":4.8807157878,\"1483311600000\":4.7751983588},\"cons_square_feet1\":{\"1483228800000\":0.4775692519,\"1483232400000\":0.4757959988,\"1483236000000\":0.4805062848,\"1483239600000\":0.4800711294,\"1483243200000\":0.4809373777,\"1483246800000\":0.4806662834,\"1483250400000\":0.479729264,\"1483254000000\":0.4792810775,\"1483257600000\":0.4806701339,\"1483261200000\":0.4785534204,\"1483264800000\":0.4791734436,\"1483268400000\":0.4778752213,\"1483272000000\":0.4844946367,\"1483275600000\":0.4895619364,\"1483279200000\":0.4927056845,\"1483282800000\":0.4945396547,\"1483286400000\":0.4940812609,\"1483290000000\":0.4953429606,\"1483293600000\":0.4940812609,\"1483297200000\":0.4936778512,\"1483300800000\":0.493665853,\"1483304400000\":0.4854293214,\"1483308000000\":0.4830177226,\"1483311600000\":0.4725752403},\"cons_kwh2\":{\"1483228800000\":5.0152293128,\"1483232400000\":5.016901413,\"1483236000000\":4.9903657435,\"1483239600000\":4.9888392994,\"1483243200000\":4.9777477685,\"1483246800000\":4.9772287581,\"1483250400000\":4.9841702843,\"1483254000000\":4.9838639472,\"1483257600000\":4.9839028555,\"1483261200000\":4.9790186707,\"1483264800000\":4.9877926308,\"1483268400000\":5.0118906902,\"1483272000000\":5.0141312104,\"1483275600000\":5.0727697349,\"1483279200000\":5.2120217473,\"1483282800000\":5.2053283759,\"1483286400000\":5.226600744,\"1483290000000\":5.2242879363,\"1483293600000\":5.2155633415,\"1483297200000\":5.2317669586,\"1483300800000\":5.2252126266,\"1483304400000\":5.1984225797,\"1483308000000\":5.1939354094,\"1483311600000\":5.0663970981},\"cons_square_feet2\":{\"1483228800000\":0.4224685094,\"1483232400000\":0.4226093624,\"1483236000000\":0.4203740738,\"1483239600000\":0.4202454905,\"1483243200000\":0.4193111718,\"1483246800000\":0.4192674519,\"1483250400000\":0.4198521861,\"1483254000000\":0.4198263812,\"1483257600000\":0.4198296587,\"1483261200000\":0.419418229,\"1483264800000\":0.4201573222,\"1483268400000\":0.4221872735,\"1483272000000\":0.4223760085,\"1483275600000\":0.4273155493,\"1483279200000\":0.4390457388,\"1483282800000\":0.4384819084,\"1483286400000\":0.4402738316,\"1483290000000\":0.4400790073,\"1483293600000\":0.4393440725,\"1483297200000\":0.4407090186,\"1483300800000\":0.4401569006,\"1483304400000\":0.437900184,\"1483308000000\":0.4375221976,\"1483311600000\":0.4267787367}}'"
      ]
     },
     "execution_count": 13,
     "metadata": {},
     "output_type": "execute_result"
    }
   ],
   "source": [
    "y_json\n",
    "y_recovered = pd.read_json(y_json)\n",
    "\n",
    "\n",
    "\n",
    "ps.line(y_recovered[['cons_square_feet1','cons_square_feet2']])\n",
    "\n",
    "y_recovered[['cons_square_feet1','cons_square_feet2']].mean()"
   ]
  },
  {
   "cell_type": "code",
   "execution_count": null,
   "id": "3bd609bd",
   "metadata": {},
   "outputs": [],
   "source": []
  }
 ],
 "metadata": {
  "kernelspec": {
   "display_name": "Python 3 (ipykernel)",
   "language": "python",
   "name": "python3"
  },
  "language_info": {
   "codemirror_mode": {
    "name": "ipython",
    "version": 3
   },
   "file_extension": ".py",
   "mimetype": "text/x-python",
   "name": "python",
   "nbconvert_exporter": "python",
   "pygments_lexer": "ipython3",
   "version": "3.8.12"
  },
  "toc": {
   "base_numbering": 1,
   "nav_menu": {},
   "number_sections": true,
   "sideBar": true,
   "skip_h1_title": false,
   "title_cell": "Table of Contents",
   "title_sidebar": "Contents",
   "toc_cell": false,
   "toc_position": {},
   "toc_section_display": true,
   "toc_window_display": false
  }
 },
 "nbformat": 4,
 "nbformat_minor": 5
}
