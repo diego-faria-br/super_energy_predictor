{
 "cells": [
  {
   "cell_type": "code",
   "execution_count": 1,
   "id": "3c9db943",
   "metadata": {},
   "outputs": [],
   "source": [
    "import numpy as np # linear algebra\n",
    "import pandas as pd # data processing, CSV file I/O (e.g. pd.read_csv)\n",
    "\n",
    "from pandas.tseries.holiday import USFederalHolidayCalendar as calendar\n",
    "from sklearn.metrics import mean_squared_error\n",
    "import lightgbm as lgbb"
   ]
  },
  {
   "cell_type": "markdown",
   "id": "3d8e36e2",
   "metadata": {},
   "source": [
    "# Preprocessing Test"
   ]
  },
  {
   "cell_type": "code",
   "execution_count": 4,
   "id": "808f96ae",
   "metadata": {},
   "outputs": [],
   "source": [
    "X = {'building_id':[104],'meter':[0],'timestamp':['2017-06-02 12:00:00']}"
   ]
  },
  {
   "cell_type": "code",
   "execution_count": 3,
   "id": "5af1105d",
   "metadata": {},
   "outputs": [],
   "source": [
    "def preprocess(X):\n",
    "\n",
    "    weather_preproc = pd.read_csv('../raw_data/weather_preproc.csv', parse_dates=['timestamp'])\n",
    "\n",
    "    building_preproc = pd.read_csv(\"../raw_data/building_preproc.csv\")\n",
    "\n",
    "\n",
    "    X = pd.DataFrame.from_dict(X)\n",
    "    \n",
    "    X['timestamp'] = pd.to_datetime(X.timestamp)\n",
    "    row = X.merge(building_preproc.iloc[:,1:], on='building_id', how='left')\n",
    "\n",
    "    row = row.merge(weather_preproc.iloc[:,1:], on=['site_id', 'timestamp'], how='left')\n",
    "\n",
    "    beaufort = [(0, 0, 0.3), (1, 0.3, 1.6), (2, 1.6, 3.4), (3, 3.4, 5.5), (4, 5.5, 8), (5, 8, 10.8), (6, 10.8, 13.9), \n",
    "              (7, 13.9, 17.2), (8, 17.2, 20.8), (9, 20.8, 24.5), (10, 24.5, 28.5), (11, 28.5, 33), (12, 33, 200)]\n",
    "\n",
    "    for item in beaufort:\n",
    "        row.loc[(row['wind_speed']>=item[1]) & (row['wind_speed']<item[2]), 'beaufort_scale'] = item[0]\n",
    "\n",
    "    row[\"timestamp\"] = pd.to_datetime(row[\"timestamp\"])\n",
    "\n",
    "    def transform(df):\n",
    "        df['hour'] = np.uint8(df['timestamp'].dt.hour)\n",
    "        df['day'] = np.uint8(df['timestamp'].dt.day)\n",
    "        df['weekday'] = np.uint8(df['timestamp'].dt.weekday)\n",
    "        df['month'] = np.uint8(df['timestamp'].dt.month)\n",
    "        df['year'] = np.uint8(df['timestamp'].dt.year-1900)\n",
    "\n",
    "        df['square_feet'] = np.log(df['square_feet'])\n",
    "\n",
    "        return df\n",
    "\n",
    "    row = transform(row)\n",
    "\n",
    "    def encode_cyclic_feature(df, col, max_vals):\n",
    "        df[col + '_sin'] = np.sin(2 * np.pi * df[col]/max_vals)\n",
    "    #     df[col + '_cos'] = np.cos(2 * np.pi * df[col]/max_vals)\n",
    "        del df[col]\n",
    "        return df\n",
    "\n",
    "    dates_range = pd.date_range(start='2015-12-31', end='2019-01-01')\n",
    "    us_holidays = calendar().holidays(start=dates_range.min(), end=dates_range.max())\n",
    "\n",
    "    row['is_holiday'] = (row['timestamp'].dt.date.astype('datetime64').isin(us_holidays)).astype(np.int8)\n",
    "    row['is_holiday'] = (row['timestamp'].dt.date.astype('datetime64').isin(us_holidays)).astype(np.int8)\n",
    "\n",
    "    row.loc[(row['weekday']) == 5 | (row['weekday'] == 6) , 'is_holiday'] = 1\n",
    "\n",
    "    row = row.drop(['timestamp'], axis=1)\n",
    "\n",
    "    row = encode_cyclic_feature(row, 'weekday', 7)\n",
    "    row = encode_cyclic_feature(row, 'hour', 24)\n",
    "    row = encode_cyclic_feature(row, 'day', 31)\n",
    "    row = encode_cyclic_feature(row, 'month', 12)\n",
    "\n",
    "    row = row.loc[:,['site_id', 'building_id', 'primary_use', 'meter', 'wind_direction',\n",
    "           'is_holiday', 'square_feet', 'year_built', 'air_temperature',\n",
    "           'cloud_coverage', 'dew_temperature', 'precip_depth_1_hr', 'floor_count',\n",
    "           'beaufort_scale', 'weekday_sin', 'day_sin', 'hour_sin', 'month_sin']]\n",
    "    return row"
   ]
  },
  {
   "cell_type": "code",
   "execution_count": 11,
   "id": "e197e232",
   "metadata": {},
   "outputs": [],
   "source": [
    "X = preprocess(X)"
   ]
  },
  {
   "cell_type": "code",
   "execution_count": 5,
   "id": "d67ed16a",
   "metadata": {},
   "outputs": [],
   "source": [
    "def pred(X):\n",
    "    model1 = lgb.Booster(model_file='model1.txt')\n",
    "    model2 = lgb.Booster(model_file='model2.txt')\n",
    "    y_pred = (model1.predict(X)+model2.predict(X))/2\n",
    "    \n",
    "    to_return = {'meter_reading':float(y_pred)}\n",
    "\n",
    "    return to_return"
   ]
  },
  {
   "cell_type": "code",
   "execution_count": 12,
   "id": "b3ef57cf",
   "metadata": {},
   "outputs": [
    {
     "data": {
      "text/plain": [
       "{'meter_reading': 5.780886692302947}"
      ]
     },
     "execution_count": 12,
     "metadata": {},
     "output_type": "execute_result"
    }
   ],
   "source": [
    "pred(X)"
   ]
  },
  {
   "cell_type": "code",
   "execution_count": 185,
   "id": "3aaafbdd",
   "metadata": {},
   "outputs": [
    {
     "data": {
      "text/plain": [
       "Unnamed: 0                 0\n",
       "site_id                    0\n",
       "timestamp                  0\n",
       "air_temperature          104\n",
       "cloud_coverage        140448\n",
       "dew_temperature          327\n",
       "precip_depth_1_hr      95588\n",
       "sea_level_pressure     21265\n",
       "wind_direction         12370\n",
       "wind_speed               460\n",
       "offset                     0\n",
       "dtype: int64"
      ]
     },
     "execution_count": 185,
     "metadata": {},
     "output_type": "execute_result"
    }
   ],
   "source": [
    "weather_preproc.isnull().sum()"
   ]
  }
 ],
 "metadata": {
  "kernelspec": {
   "display_name": "Python 3 (ipykernel)",
   "language": "python",
   "name": "python3"
  },
  "language_info": {
   "codemirror_mode": {
    "name": "ipython",
    "version": 3
   },
   "file_extension": ".py",
   "mimetype": "text/x-python",
   "name": "python",
   "nbconvert_exporter": "python",
   "pygments_lexer": "ipython3",
   "version": "3.8.12"
  },
  "toc": {
   "base_numbering": 1,
   "nav_menu": {},
   "number_sections": true,
   "sideBar": true,
   "skip_h1_title": false,
   "title_cell": "Table of Contents",
   "title_sidebar": "Contents",
   "toc_cell": false,
   "toc_position": {},
   "toc_section_display": true,
   "toc_window_display": false
  },
  "vscode": {
   "interpreter": {
    "hash": "8c82dcfd3e2f3df287fc8046091b011fcd061f1fa494f815a27226d14f9de435"
   }
  }
 },
 "nbformat": 4,
 "nbformat_minor": 5
}
