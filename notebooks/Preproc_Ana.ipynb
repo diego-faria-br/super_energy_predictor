{
 "cells": [
  {
   "cell_type": "markdown",
   "id": "9b5d5f44",
   "metadata": {},
   "source": [
    "# Introduction"
   ]
  },
  {
   "cell_type": "code",
   "execution_count": 1,
   "id": "e9b93f06",
   "metadata": {},
   "outputs": [],
   "source": [
    "'''Importing Data Manipulattion Moduls'''\n",
    "import numpy as np\n",
    "import pandas as pd\n",
    "from scipy import stats\n",
    "import os, gc\n",
    "\n",
    "'''Seaborn and Matplotlib Visualization'''\n",
    "import matplotlib.pyplot as plt\n",
    "import seaborn as sns\n",
    "sns.set_style(\"whitegrid\")                    \n",
    "%matplotlib inline\n",
    "\n",
    "'''Display markdown formatted output like bold, italic bold etc.'''\n",
    "from IPython.display import Markdown\n",
    "def bold(string):\n",
    "    display(Markdown(string))"
   ]
  },
  {
   "cell_type": "code",
   "execution_count": 2,
   "id": "82dda4aa",
   "metadata": {},
   "outputs": [],
   "source": [
    "import pickle\n",
    "from tqdm import tqdm"
   ]
  },
  {
   "cell_type": "markdown",
   "id": "3957bc06",
   "metadata": {},
   "source": [
    "# Data preparation"
   ]
  },
  {
   "cell_type": "markdown",
   "id": "fd1fbeea",
   "metadata": {},
   "source": [
    "## CSV pd read"
   ]
  },
  {
   "cell_type": "code",
   "execution_count": 3,
   "id": "b34721b2",
   "metadata": {},
   "outputs": [],
   "source": [
    "'''Read the dataset from csv file'''\n",
    "building = pd.read_csv('../raw_data/building_metadata.csv')\n",
    "weather_train = pd.read_csv('../raw_data/weather_train.csv')\n",
    "weather_test = pd.read_csv('../raw_data/weather_test.csv')\n",
    "train = pd.read_csv('../raw_data/train.csv') \n",
    "test = pd.read_csv('../raw_data/test.csv')"
   ]
  },
  {
   "cell_type": "code",
   "execution_count": 4,
   "id": "766f291f",
   "metadata": {},
   "outputs": [
    {
     "data": {
      "text/markdown": [
       "**Shape of our train and test data**"
      ],
      "text/plain": [
       "<IPython.core.display.Markdown object>"
      ]
     },
     "metadata": {},
     "output_type": "display_data"
    },
    {
     "name": "stdout",
     "output_type": "stream",
     "text": [
      "Dimension of building: (1449, 6)\n",
      "Dimension of Weather train: (139773, 9)\n",
      "Dimension of Weather test: (277243, 9)\n",
      "Dimension of train: (20216100, 4)\n",
      "Dimension of test: (41697600, 4)\n"
     ]
    }
   ],
   "source": [
    "'''Dimension of train and test data'''\n",
    "bold('**Shape of our train and test data**')\n",
    "print('Dimension of building:', building.shape) \n",
    "print('Dimension of Weather train:',weather_train.shape) \n",
    "print('Dimension of Weather test:', weather_test.shape)\n",
    "print('Dimension of train:',train.shape) \n",
    "print('Dimension of test:',test.shape)"
   ]
  },
  {
   "cell_type": "markdown",
   "id": "f27a3a62",
   "metadata": {},
   "source": [
    "## Data minification → Reduce memory usage (downcasting) / load data faster, pickle format?"
   ]
  },
  {
   "cell_type": "markdown",
   "id": "2dbc7515",
   "metadata": {},
   "source": [
    "## merge/concat dataset on building ID, foreign key for building data and site ID, foreign key for weather data"
   ]
  },
  {
   "cell_type": "code",
   "execution_count": 5,
   "id": "5b009412",
   "metadata": {},
   "outputs": [],
   "source": [
    "#weather[\"timestamp\"] = pd.to_datetime(weather[\"timestamp\"])"
   ]
  },
  {
   "cell_type": "code",
   "execution_count": 8,
   "id": "65c41f7c",
   "metadata": {},
   "outputs": [],
   "source": [
    "'''Merging datasets'''\n",
    "train = train.merge(building, on = 'building_id', how = 'left')\n",
    "test = test.merge(building, on = 'building_id', how = 'left')\n",
    "\n",
    "train = train.merge(weather_train, on = ['site_id', 'timestamp'], how = 'left')\n",
    "test = test.merge(weather_test, on = ['site_id', 'timestamp'], how = 'left')\n",
    "\n",
    "del weather_train, weather_test,building"
   ]
  },
  {
   "cell_type": "markdown",
   "id": "20bcee18",
   "metadata": {},
   "source": [
    "## removing data from site 0 and potential other outliers?"
   ]
  },
  {
   "cell_type": "markdown",
   "id": "b6477339",
   "metadata": {},
   "source": [
    "# Features engineering & Modeling "
   ]
  },
  {
   "cell_type": "markdown",
   "id": "77ce16b6",
   "metadata": {},
   "source": [
    "## Time / date"
   ]
  },
  {
   "cell_type": "markdown",
   "id": "c6638584",
   "metadata": {},
   "source": [
    "### convert to timestamp"
   ]
  },
  {
   "cell_type": "code",
   "execution_count": 9,
   "id": "294b9df9",
   "metadata": {},
   "outputs": [],
   "source": [
    "train[\"timestamp\"] = pd.to_datetime(train[\"timestamp\"])"
   ]
  },
  {
   "cell_type": "markdown",
   "id": "6f247044",
   "metadata": {},
   "source": [
    "###  UTC to local time"
   ]
  },
  {
   "cell_type": "code",
   "execution_count": 10,
   "id": "53212484",
   "metadata": {},
   "outputs": [
    {
     "name": "stdout",
     "output_type": "stream",
     "text": [
      "  Apply time zone\n"
     ]
    }
   ],
   "source": [
    "train[\"isNaN\"] = train[\"air_temperature\"].isna().astype(\"int\")\n",
    "train.head()\n",
    "train.shape\n",
    "print('  Apply time zone')\n",
    "site_id_to_time_zone = {\n",
    "    0: \"US/Eastern\",\n",
    "    1: \"Europe/London\",\n",
    "    2: \"US/Arizona\",\n",
    "    3: \"US/Eastern\",\n",
    "    4: \"US/Pacific\",\n",
    "    5: \"Europe/London\",\n",
    "    6: \"US/Eastern\",\n",
    "    7: \"Canada/Eastern\",\n",
    "    8: \"US/Eastern\",\n",
    "    9: \"US/Central\",\n",
    "    10: \"US/Pacific\",\n",
    "    11: \"Canada/Eastern\",\n",
    "    12: \"Europe/Dublin\",\n",
    "    13: \"US/Central\",\n",
    "    14: \"US/Eastern\",\n",
    "    15: \"US/Eastern\",\n",
    "}"
   ]
  },
  {
   "cell_type": "code",
   "execution_count": 11,
   "id": "324b1598",
   "metadata": {},
   "outputs": [],
   "source": [
    "train[\"time_zone\"] = train[\"site_id\"].map(site_id_to_time_zone)\n",
    "train.rename(columns={\"timestamp\": \"timestamp_utc\"}, inplace=True)\n",
    "train[\"timestamp\"] = train.apply(\n",
    "    lambda x: x[\"timestamp_utc\"]\n",
    "    .tz_localize(\"UTC\")\n",
    "    .tz_convert(x[\"time_zone\"])\n",
    "    .tz_localize(None),\n",
    "    axis=\"columns\",\n",
    ")"
   ]
  },
  {
   "cell_type": "code",
   "execution_count": 12,
   "id": "2fa51501",
   "metadata": {},
   "outputs": [
    {
     "data": {
      "text/plain": [
       "'timestamp'"
      ]
     },
     "execution_count": 12,
     "metadata": {},
     "output_type": "execute_result"
    }
   ],
   "source": [
    "train.timestamp.dt.name"
   ]
  },
  {
   "cell_type": "markdown",
   "id": "2b52decf",
   "metadata": {},
   "source": [
    "### Expand timestamp: hours, day, weekday, month, year"
   ]
  },
  {
   "cell_type": "code",
   "execution_count": 13,
   "id": "e964e990",
   "metadata": {},
   "outputs": [],
   "source": [
    "train[\"hour\"] = np.uint8(train[\"timestamp\"].dt.hour)\n",
    "train[\"day\"] = np.uint8(train[\"timestamp\"].dt.day)\n",
    "\n",
    "#train[\"weekday_name\"] = train[\"timestamp\"].dt.weekday_name \n",
    "train[\"weekday\"] = np.uint8(train[\"timestamp\"].dt.weekday)\n",
    "train[\"month\"] = np.uint8(train[\"timestamp\"].dt.month)\n",
    "\n",
    "test[\"timestamp\"] = pd.to_datetime(test[\"timestamp\"])\n",
    "test[\"hour\"] = np.uint8(test[\"timestamp\"].dt.hour)\n",
    "test[\"day\"] = np.uint8(test[\"timestamp\"].dt.day)\n",
    "test[\"weekday\"] = np.uint8(test[\"timestamp\"].dt.weekday)\n",
    "test[\"month\"] = np.uint8(test[\"timestamp\"].dt.month)"
   ]
  },
  {
   "cell_type": "code",
   "execution_count": 14,
   "id": "2fe3a2c6",
   "metadata": {},
   "outputs": [
    {
     "data": {
      "text/plain": [
       "count    2.021610e+07\n",
       "mean     3.005483e+00\n",
       "std      1.996860e+00\n",
       "min      0.000000e+00\n",
       "25%      1.000000e+00\n",
       "50%      3.000000e+00\n",
       "75%      5.000000e+00\n",
       "max      6.000000e+00\n",
       "Name: weekday, dtype: float64"
      ]
     },
     "execution_count": 14,
     "metadata": {},
     "output_type": "execute_result"
    }
   ],
   "source": [
    "train['weekday'].describe()"
   ]
  },
  {
   "cell_type": "code",
   "execution_count": 15,
   "id": "5abf68e8",
   "metadata": {},
   "outputs": [
    {
     "data": {
      "text/plain": [
       "(array([   55224,    55225,    55226, ..., 20216097, 20216098, 20216099]),)"
      ]
     },
     "execution_count": 15,
     "metadata": {},
     "output_type": "execute_result"
    }
   ],
   "source": [
    "weekends = np.where(train['weekday'] > 4)\n",
    "weekends"
   ]
  },
  {
   "cell_type": "code",
   "execution_count": 16,
   "id": "e61cf6fe",
   "metadata": {},
   "outputs": [
    {
     "data": {
      "text/plain": [
       "0           0\n",
       "1           0\n",
       "2           0\n",
       "3           0\n",
       "4           0\n",
       "           ..\n",
       "20216095    0\n",
       "20216096    0\n",
       "20216097    0\n",
       "20216098    0\n",
       "20216099    0\n",
       "Name: weekends, Length: 20216100, dtype: int64"
      ]
     },
     "execution_count": 16,
     "metadata": {},
     "output_type": "execute_result"
    }
   ],
   "source": [
    "train['weekends'] = 0\n",
    "train['weekends']"
   ]
  },
  {
   "cell_type": "code",
   "execution_count": 17,
   "id": "46937a5e",
   "metadata": {
    "scrolled": false
   },
   "outputs": [
    {
     "name": "stderr",
     "output_type": "stream",
     "text": [
      "/Users/anaflaviagama/.pyenv/versions/3.8.12/envs/lewagon/lib/python3.8/site-packages/pandas/core/indexing.py:1732: SettingWithCopyWarning: \n",
      "A value is trying to be set on a copy of a slice from a DataFrame\n",
      "\n",
      "See the caveats in the documentation: https://pandas.pydata.org/pandas-docs/stable/user_guide/indexing.html#returning-a-view-versus-a-copy\n",
      "  self._setitem_single_block(indexer, value, name)\n"
     ]
    }
   ],
   "source": [
    "train['weekends'].iloc[weekends] = 1"
   ]
  },
  {
   "cell_type": "code",
   "execution_count": 18,
   "id": "75cf9724",
   "metadata": {
    "scrolled": true
   },
   "outputs": [
    {
     "data": {
      "text/plain": [
       "0           0\n",
       "1           0\n",
       "2           0\n",
       "3           0\n",
       "4           0\n",
       "           ..\n",
       "20216095    1\n",
       "20216096    1\n",
       "20216097    1\n",
       "20216098    1\n",
       "20216099    1\n",
       "Name: weekends, Length: 20216100, dtype: int64"
      ]
     },
     "execution_count": 18,
     "metadata": {},
     "output_type": "execute_result"
    }
   ],
   "source": [
    "train['weekends']"
   ]
  },
  {
   "cell_type": "code",
   "execution_count": 30,
   "id": "9e2fe5a9",
   "metadata": {
    "scrolled": true
   },
   "outputs": [
    {
     "data": {
      "text/html": [
       "<div>\n",
       "<style scoped>\n",
       "    .dataframe tbody tr th:only-of-type {\n",
       "        vertical-align: middle;\n",
       "    }\n",
       "\n",
       "    .dataframe tbody tr th {\n",
       "        vertical-align: top;\n",
       "    }\n",
       "\n",
       "    .dataframe thead th {\n",
       "        text-align: right;\n",
       "    }\n",
       "</style>\n",
       "<table border=\"1\" class=\"dataframe\">\n",
       "  <thead>\n",
       "    <tr style=\"text-align: right;\">\n",
       "      <th></th>\n",
       "      <th>building_id</th>\n",
       "      <th>meter</th>\n",
       "      <th>timestamp_utc</th>\n",
       "      <th>meter_reading</th>\n",
       "      <th>site_id</th>\n",
       "      <th>primary_use</th>\n",
       "      <th>square_feet</th>\n",
       "      <th>year_built</th>\n",
       "      <th>floor_count</th>\n",
       "      <th>air_temperature</th>\n",
       "      <th>...</th>\n",
       "      <th>wind_direction</th>\n",
       "      <th>wind_speed</th>\n",
       "      <th>isNaN</th>\n",
       "      <th>time_zone</th>\n",
       "      <th>timestamp</th>\n",
       "      <th>hour</th>\n",
       "      <th>day</th>\n",
       "      <th>weekday</th>\n",
       "      <th>month</th>\n",
       "      <th>weekends</th>\n",
       "    </tr>\n",
       "  </thead>\n",
       "  <tbody>\n",
       "    <tr>\n",
       "      <th>0</th>\n",
       "      <td>0</td>\n",
       "      <td>0</td>\n",
       "      <td>2016-01-01</td>\n",
       "      <td>0.0</td>\n",
       "      <td>0</td>\n",
       "      <td>Education</td>\n",
       "      <td>7432</td>\n",
       "      <td>2008.0</td>\n",
       "      <td>NaN</td>\n",
       "      <td>25.0</td>\n",
       "      <td>...</td>\n",
       "      <td>0.0</td>\n",
       "      <td>0.0</td>\n",
       "      <td>0</td>\n",
       "      <td>US/Eastern</td>\n",
       "      <td>2015-12-31 19:00:00</td>\n",
       "      <td>19</td>\n",
       "      <td>31</td>\n",
       "      <td>3</td>\n",
       "      <td>12</td>\n",
       "      <td>0</td>\n",
       "    </tr>\n",
       "    <tr>\n",
       "      <th>1</th>\n",
       "      <td>1</td>\n",
       "      <td>0</td>\n",
       "      <td>2016-01-01</td>\n",
       "      <td>0.0</td>\n",
       "      <td>0</td>\n",
       "      <td>Education</td>\n",
       "      <td>2720</td>\n",
       "      <td>2004.0</td>\n",
       "      <td>NaN</td>\n",
       "      <td>25.0</td>\n",
       "      <td>...</td>\n",
       "      <td>0.0</td>\n",
       "      <td>0.0</td>\n",
       "      <td>0</td>\n",
       "      <td>US/Eastern</td>\n",
       "      <td>2015-12-31 19:00:00</td>\n",
       "      <td>19</td>\n",
       "      <td>31</td>\n",
       "      <td>3</td>\n",
       "      <td>12</td>\n",
       "      <td>0</td>\n",
       "    </tr>\n",
       "    <tr>\n",
       "      <th>2</th>\n",
       "      <td>2</td>\n",
       "      <td>0</td>\n",
       "      <td>2016-01-01</td>\n",
       "      <td>0.0</td>\n",
       "      <td>0</td>\n",
       "      <td>Education</td>\n",
       "      <td>5376</td>\n",
       "      <td>1991.0</td>\n",
       "      <td>NaN</td>\n",
       "      <td>25.0</td>\n",
       "      <td>...</td>\n",
       "      <td>0.0</td>\n",
       "      <td>0.0</td>\n",
       "      <td>0</td>\n",
       "      <td>US/Eastern</td>\n",
       "      <td>2015-12-31 19:00:00</td>\n",
       "      <td>19</td>\n",
       "      <td>31</td>\n",
       "      <td>3</td>\n",
       "      <td>12</td>\n",
       "      <td>0</td>\n",
       "    </tr>\n",
       "    <tr>\n",
       "      <th>3</th>\n",
       "      <td>3</td>\n",
       "      <td>0</td>\n",
       "      <td>2016-01-01</td>\n",
       "      <td>0.0</td>\n",
       "      <td>0</td>\n",
       "      <td>Education</td>\n",
       "      <td>23685</td>\n",
       "      <td>2002.0</td>\n",
       "      <td>NaN</td>\n",
       "      <td>25.0</td>\n",
       "      <td>...</td>\n",
       "      <td>0.0</td>\n",
       "      <td>0.0</td>\n",
       "      <td>0</td>\n",
       "      <td>US/Eastern</td>\n",
       "      <td>2015-12-31 19:00:00</td>\n",
       "      <td>19</td>\n",
       "      <td>31</td>\n",
       "      <td>3</td>\n",
       "      <td>12</td>\n",
       "      <td>0</td>\n",
       "    </tr>\n",
       "    <tr>\n",
       "      <th>4</th>\n",
       "      <td>4</td>\n",
       "      <td>0</td>\n",
       "      <td>2016-01-01</td>\n",
       "      <td>0.0</td>\n",
       "      <td>0</td>\n",
       "      <td>Education</td>\n",
       "      <td>116607</td>\n",
       "      <td>1975.0</td>\n",
       "      <td>NaN</td>\n",
       "      <td>25.0</td>\n",
       "      <td>...</td>\n",
       "      <td>0.0</td>\n",
       "      <td>0.0</td>\n",
       "      <td>0</td>\n",
       "      <td>US/Eastern</td>\n",
       "      <td>2015-12-31 19:00:00</td>\n",
       "      <td>19</td>\n",
       "      <td>31</td>\n",
       "      <td>3</td>\n",
       "      <td>12</td>\n",
       "      <td>0</td>\n",
       "    </tr>\n",
       "    <tr>\n",
       "      <th>5</th>\n",
       "      <td>5</td>\n",
       "      <td>0</td>\n",
       "      <td>2016-01-01</td>\n",
       "      <td>0.0</td>\n",
       "      <td>0</td>\n",
       "      <td>Education</td>\n",
       "      <td>8000</td>\n",
       "      <td>2000.0</td>\n",
       "      <td>NaN</td>\n",
       "      <td>25.0</td>\n",
       "      <td>...</td>\n",
       "      <td>0.0</td>\n",
       "      <td>0.0</td>\n",
       "      <td>0</td>\n",
       "      <td>US/Eastern</td>\n",
       "      <td>2015-12-31 19:00:00</td>\n",
       "      <td>19</td>\n",
       "      <td>31</td>\n",
       "      <td>3</td>\n",
       "      <td>12</td>\n",
       "      <td>0</td>\n",
       "    </tr>\n",
       "    <tr>\n",
       "      <th>6</th>\n",
       "      <td>6</td>\n",
       "      <td>0</td>\n",
       "      <td>2016-01-01</td>\n",
       "      <td>0.0</td>\n",
       "      <td>0</td>\n",
       "      <td>Lodging/residential</td>\n",
       "      <td>27926</td>\n",
       "      <td>1981.0</td>\n",
       "      <td>NaN</td>\n",
       "      <td>25.0</td>\n",
       "      <td>...</td>\n",
       "      <td>0.0</td>\n",
       "      <td>0.0</td>\n",
       "      <td>0</td>\n",
       "      <td>US/Eastern</td>\n",
       "      <td>2015-12-31 19:00:00</td>\n",
       "      <td>19</td>\n",
       "      <td>31</td>\n",
       "      <td>3</td>\n",
       "      <td>12</td>\n",
       "      <td>0</td>\n",
       "    </tr>\n",
       "    <tr>\n",
       "      <th>7</th>\n",
       "      <td>7</td>\n",
       "      <td>0</td>\n",
       "      <td>2016-01-01</td>\n",
       "      <td>0.0</td>\n",
       "      <td>0</td>\n",
       "      <td>Education</td>\n",
       "      <td>121074</td>\n",
       "      <td>1989.0</td>\n",
       "      <td>NaN</td>\n",
       "      <td>25.0</td>\n",
       "      <td>...</td>\n",
       "      <td>0.0</td>\n",
       "      <td>0.0</td>\n",
       "      <td>0</td>\n",
       "      <td>US/Eastern</td>\n",
       "      <td>2015-12-31 19:00:00</td>\n",
       "      <td>19</td>\n",
       "      <td>31</td>\n",
       "      <td>3</td>\n",
       "      <td>12</td>\n",
       "      <td>0</td>\n",
       "    </tr>\n",
       "    <tr>\n",
       "      <th>8</th>\n",
       "      <td>8</td>\n",
       "      <td>0</td>\n",
       "      <td>2016-01-01</td>\n",
       "      <td>0.0</td>\n",
       "      <td>0</td>\n",
       "      <td>Education</td>\n",
       "      <td>60809</td>\n",
       "      <td>2003.0</td>\n",
       "      <td>NaN</td>\n",
       "      <td>25.0</td>\n",
       "      <td>...</td>\n",
       "      <td>0.0</td>\n",
       "      <td>0.0</td>\n",
       "      <td>0</td>\n",
       "      <td>US/Eastern</td>\n",
       "      <td>2015-12-31 19:00:00</td>\n",
       "      <td>19</td>\n",
       "      <td>31</td>\n",
       "      <td>3</td>\n",
       "      <td>12</td>\n",
       "      <td>0</td>\n",
       "    </tr>\n",
       "    <tr>\n",
       "      <th>9</th>\n",
       "      <td>9</td>\n",
       "      <td>0</td>\n",
       "      <td>2016-01-01</td>\n",
       "      <td>0.0</td>\n",
       "      <td>0</td>\n",
       "      <td>Office</td>\n",
       "      <td>27000</td>\n",
       "      <td>2010.0</td>\n",
       "      <td>NaN</td>\n",
       "      <td>25.0</td>\n",
       "      <td>...</td>\n",
       "      <td>0.0</td>\n",
       "      <td>0.0</td>\n",
       "      <td>0</td>\n",
       "      <td>US/Eastern</td>\n",
       "      <td>2015-12-31 19:00:00</td>\n",
       "      <td>19</td>\n",
       "      <td>31</td>\n",
       "      <td>3</td>\n",
       "      <td>12</td>\n",
       "      <td>0</td>\n",
       "    </tr>\n",
       "  </tbody>\n",
       "</table>\n",
       "<p>10 rows × 24 columns</p>\n",
       "</div>"
      ],
      "text/plain": [
       "   building_id  meter timestamp_utc  meter_reading  site_id  \\\n",
       "0            0      0    2016-01-01            0.0        0   \n",
       "1            1      0    2016-01-01            0.0        0   \n",
       "2            2      0    2016-01-01            0.0        0   \n",
       "3            3      0    2016-01-01            0.0        0   \n",
       "4            4      0    2016-01-01            0.0        0   \n",
       "5            5      0    2016-01-01            0.0        0   \n",
       "6            6      0    2016-01-01            0.0        0   \n",
       "7            7      0    2016-01-01            0.0        0   \n",
       "8            8      0    2016-01-01            0.0        0   \n",
       "9            9      0    2016-01-01            0.0        0   \n",
       "\n",
       "           primary_use  square_feet  year_built  floor_count  air_temperature  \\\n",
       "0            Education         7432      2008.0          NaN             25.0   \n",
       "1            Education         2720      2004.0          NaN             25.0   \n",
       "2            Education         5376      1991.0          NaN             25.0   \n",
       "3            Education        23685      2002.0          NaN             25.0   \n",
       "4            Education       116607      1975.0          NaN             25.0   \n",
       "5            Education         8000      2000.0          NaN             25.0   \n",
       "6  Lodging/residential        27926      1981.0          NaN             25.0   \n",
       "7            Education       121074      1989.0          NaN             25.0   \n",
       "8            Education        60809      2003.0          NaN             25.0   \n",
       "9               Office        27000      2010.0          NaN             25.0   \n",
       "\n",
       "   ...  wind_direction  wind_speed  isNaN   time_zone           timestamp  \\\n",
       "0  ...             0.0         0.0      0  US/Eastern 2015-12-31 19:00:00   \n",
       "1  ...             0.0         0.0      0  US/Eastern 2015-12-31 19:00:00   \n",
       "2  ...             0.0         0.0      0  US/Eastern 2015-12-31 19:00:00   \n",
       "3  ...             0.0         0.0      0  US/Eastern 2015-12-31 19:00:00   \n",
       "4  ...             0.0         0.0      0  US/Eastern 2015-12-31 19:00:00   \n",
       "5  ...             0.0         0.0      0  US/Eastern 2015-12-31 19:00:00   \n",
       "6  ...             0.0         0.0      0  US/Eastern 2015-12-31 19:00:00   \n",
       "7  ...             0.0         0.0      0  US/Eastern 2015-12-31 19:00:00   \n",
       "8  ...             0.0         0.0      0  US/Eastern 2015-12-31 19:00:00   \n",
       "9  ...             0.0         0.0      0  US/Eastern 2015-12-31 19:00:00   \n",
       "\n",
       "   hour  day weekday month  weekends  \n",
       "0    19   31       3    12         0  \n",
       "1    19   31       3    12         0  \n",
       "2    19   31       3    12         0  \n",
       "3    19   31       3    12         0  \n",
       "4    19   31       3    12         0  \n",
       "5    19   31       3    12         0  \n",
       "6    19   31       3    12         0  \n",
       "7    19   31       3    12         0  \n",
       "8    19   31       3    12         0  \n",
       "9    19   31       3    12         0  \n",
       "\n",
       "[10 rows x 24 columns]"
      ]
     },
     "execution_count": 30,
     "metadata": {},
     "output_type": "execute_result"
    }
   ],
   "source": [
    "train.head(10)"
   ]
  },
  {
   "cell_type": "code",
   "execution_count": 38,
   "id": "92773e78",
   "metadata": {},
   "outputs": [
    {
     "name": "stderr",
     "output_type": "stream",
     "text": [
      "/var/folders/jn/fmk11xqs3fqg4zt98nw043b80000gn/T/ipykernel_5647/3278292004.py:1: FutureWarning: Treating datetime data as categorical rather than numeric in `.describe` is deprecated and will be removed in a future version of pandas. Specify `datetime_is_numeric=True` to silence this warning and adopt the future behavior now.\n",
      "  train['timestamp_utc'].describe()\n"
     ]
    },
    {
     "data": {
      "text/plain": [
       "count                20216100\n",
       "unique                   8784\n",
       "top       2016-12-27 22:00:00\n",
       "freq                     2370\n",
       "first     2016-01-01 00:00:00\n",
       "last      2016-12-31 23:00:00\n",
       "Name: timestamp_utc, dtype: object"
      ]
     },
     "execution_count": 38,
     "metadata": {},
     "output_type": "execute_result"
    }
   ],
   "source": [
    "train['timestamp_utc'].describe()"
   ]
  },
  {
   "cell_type": "markdown",
   "id": "d787029a",
   "metadata": {},
   "source": [
    "### Holidays → Python package for hols in UK, US, CA, IR"
   ]
  },
  {
   "cell_type": "code",
   "execution_count": 33,
   "id": "15045ca8",
   "metadata": {},
   "outputs": [
    {
     "name": "stdout",
     "output_type": "stream",
     "text": [
      "Collecting holidays\n",
      "  Using cached holidays-0.17-py3-none-any.whl (187 kB)\n",
      "Requirement already satisfied: python-dateutil in /Users/anaflaviagama/.pyenv/versions/3.8.12/envs/lewagon/lib/python3.8/site-packages (from holidays) (2.8.2)\n",
      "Collecting korean-lunar-calendar\n",
      "  Using cached korean_lunar_calendar-0.3.1-py3-none-any.whl (9.0 kB)\n",
      "Collecting hijri-converter\n",
      "  Using cached hijri_converter-2.2.4-py3-none-any.whl (14 kB)\n",
      "Collecting convertdate>=2.3.0\n",
      "  Using cached convertdate-2.4.0-py3-none-any.whl (47 kB)\n",
      "Collecting pymeeus<=1,>=0.3.13\n",
      "  Using cached PyMeeus-0.5.11.tar.gz (5.4 MB)\n",
      "  Preparing metadata (setup.py) ... \u001b[?25ldone\n",
      "\u001b[?25hRequirement already satisfied: six>=1.5 in /Users/anaflaviagama/.pyenv/versions/3.8.12/envs/lewagon/lib/python3.8/site-packages (from python-dateutil->holidays) (1.16.0)\n",
      "Building wheels for collected packages: pymeeus\n",
      "  Building wheel for pymeeus (setup.py) ... \u001b[?25ldone\n",
      "\u001b[?25h  Created wheel for pymeeus: filename=PyMeeus-0.5.11-py3-none-any.whl size=730974 sha256=c64210cf304f7c0c7468d83011b4934f71b9e8328dda226cfeb7a3be849b1638\n",
      "  Stored in directory: /Users/anaflaviagama/Library/Caches/pip/wheels/8a/1f/aa/ac3580dfd3e704ad8dd67759214850410f4ea01c2b87344ddd\n",
      "Successfully built pymeeus\n",
      "Installing collected packages: pymeeus, korean-lunar-calendar, hijri-converter, convertdate, holidays\n",
      "Successfully installed convertdate-2.4.0 hijri-converter-2.2.4 holidays-0.17 korean-lunar-calendar-0.3.1 pymeeus-0.5.11\n"
     ]
    }
   ],
   "source": [
    "! pip install holidays"
   ]
  },
  {
   "cell_type": "code",
   "execution_count": 34,
   "id": "c05a8436",
   "metadata": {
    "scrolled": true
   },
   "outputs": [],
   "source": [
    "from datetime import date\n",
    "import holidays"
   ]
  },
  {
   "cell_type": "code",
   "execution_count": 44,
   "id": "4fe31690",
   "metadata": {},
   "outputs": [
    {
     "name": "stdout",
     "output_type": "stream",
     "text": [
      "(datetime.date(2016, 1, 1), \"New Year's Day\")\n",
      "(datetime.date(2016, 2, 15), 'Family Day')\n",
      "(datetime.date(2016, 3, 25), 'Good Friday')\n",
      "(datetime.date(2016, 3, 28), 'Easter Monday')\n",
      "(datetime.date(2016, 5, 23), 'Victoria Day')\n",
      "(datetime.date(2016, 7, 1), 'Canada Day')\n",
      "(datetime.date(2016, 8, 1), 'Civic Holiday')\n",
      "(datetime.date(2016, 9, 5), 'Labour Day')\n",
      "(datetime.date(2016, 10, 10), 'Thanksgiving')\n",
      "(datetime.date(2016, 12, 25), 'Christmas Day')\n",
      "(datetime.date(2016, 12, 27), 'Christmas Day (Observed)')\n",
      "(datetime.date(2016, 12, 26), 'Boxing Day')\n",
      "(datetime.date(2016, 1, 1), \"New Year's Day\")\n",
      "(datetime.date(2016, 3, 17), \"St. Patrick's Day\")\n",
      "(datetime.date(2016, 3, 28), 'Easter Monday')\n",
      "(datetime.date(2016, 5, 2), 'May Day')\n",
      "(datetime.date(2016, 6, 6), 'June Bank Holiday')\n",
      "(datetime.date(2016, 8, 1), 'August Bank Holiday')\n",
      "(datetime.date(2016, 10, 31), 'October Bank Holiday')\n",
      "(datetime.date(2016, 12, 25), 'Christmas Day')\n",
      "(datetime.date(2016, 12, 26), \"Christmas Day (Observed), St. Stephen's Day\")\n",
      "(datetime.date(2016, 1, 1), \"New Year's Day\")\n",
      "(datetime.date(2016, 1, 2), 'New Year Holiday [Scotland]')\n",
      "(datetime.date(2016, 1, 4), 'New Year Holiday [Scotland] (Observed)')\n",
      "(datetime.date(2016, 3, 17), \"St. Patrick's Day [Northern Ireland]\")\n",
      "(datetime.date(2016, 7, 12), 'Battle of the Boyne [Northern Ireland]')\n",
      "(datetime.date(2016, 8, 1), 'Summer Bank Holiday [Scotland]')\n",
      "(datetime.date(2016, 11, 30), \"St. Andrew's Day [Scotland]\")\n",
      "(datetime.date(2016, 12, 25), 'Christmas Day')\n",
      "(datetime.date(2016, 12, 27), 'Christmas Day (Observed)')\n",
      "(datetime.date(2016, 3, 25), 'Good Friday')\n",
      "(datetime.date(2016, 3, 28), 'Easter Monday [England/Wales/Northern Ireland]')\n",
      "(datetime.date(2016, 5, 2), 'May Day')\n",
      "(datetime.date(2016, 5, 30), 'Spring Bank Holiday')\n",
      "(datetime.date(2016, 8, 29), 'Late Summer Bank Holiday [England/Wales/Northern Ireland]')\n",
      "(datetime.date(2016, 12, 26), 'Boxing Day')\n",
      "(datetime.date(2016, 1, 1), \"New Year's Day\")\n",
      "(datetime.date(2016, 1, 18), 'Martin Luther King Jr. Day')\n",
      "(datetime.date(2016, 2, 15), \"Washington's Birthday\")\n",
      "(datetime.date(2016, 5, 30), 'Memorial Day')\n",
      "(datetime.date(2016, 7, 4), 'Independence Day')\n",
      "(datetime.date(2016, 9, 5), 'Labor Day')\n",
      "(datetime.date(2016, 10, 10), 'Columbus Day')\n",
      "(datetime.date(2016, 11, 11), 'Veterans Day')\n",
      "(datetime.date(2016, 11, 24), 'Thanksgiving')\n",
      "(datetime.date(2016, 12, 25), 'Christmas Day')\n",
      "(datetime.date(2016, 12, 26), 'Christmas Day (Observed)')\n"
     ]
    }
   ],
   "source": [
    "for holiday_CA in holidays.CA(years=[2016]).items():\n",
    "    print(holiday_CA)\n",
    "for holiday_IE in holidays.IE(years=[2016]).items():\n",
    "    print(holiday_IE)\n",
    "for holiday_UK in holidays.UK(years=[2016]).items():\n",
    "    print(holiday_UK)\n",
    "for holiday_US in holidays.US(years=[2016]).items():\n",
    "    print(holiday_US)"
   ]
  },
  {
   "cell_type": "markdown",
   "id": "15494738",
   "metadata": {},
   "source": [
    "## Potential drop of features : sea levels, winds?"
   ]
  },
  {
   "cell_type": "code",
   "execution_count": 27,
   "id": "fcbe9844",
   "metadata": {
    "scrolled": true
   },
   "outputs": [
    {
     "data": {
      "text/plain": [
       "1.0     934303\n",
       "2.0     691052\n",
       "4.0     351938\n",
       "3.0     331688\n",
       "6.0     296598\n",
       "5.0     253856\n",
       "8.0     175258\n",
       "7.0     131435\n",
       "9.0      86416\n",
       "11.0     61465\n",
       "13.0     43911\n",
       "10.0     34880\n",
       "21.0     26343\n",
       "19.0     26343\n",
       "26.0     26321\n",
       "12.0     17559\n",
       "16.0      8784\n",
       "14.0      8783\n",
       "Name: floor_count, dtype: int64"
      ]
     },
     "execution_count": 27,
     "metadata": {},
     "output_type": "execute_result"
    }
   ],
   "source": [
    "train['floor_count'].value_counts()"
   ]
  },
  {
   "cell_type": "code",
   "execution_count": 46,
   "id": "7a3e5c8f",
   "metadata": {},
   "outputs": [
    {
     "data": {
      "text/plain": [
       "(array([10.,  2.,  1.,  3.,  0.,  0.,  0.,  1.,  0.,  1.]),\n",
       " array([  8783., 101335., 193887., 286439., 378991., 471543., 564095.,\n",
       "        656647., 749199., 841751., 934303.]),\n",
       " <BarContainer object of 10 artists>)"
      ]
     },
     "execution_count": 46,
     "metadata": {},
     "output_type": "execute_result"
    },
    {
     "data": {
      "image/png": "[encoded data removed]",
      "text/plain": [
       "<Figure size 432x288 with 1 Axes>"
      ]
     },
     "metadata": {
      "needs_background": "light"
     },
     "output_type": "display_data"
    }
   ],
   "source": [
    "plt.hist(train['floor_count'].value_counts())"
   ]
  },
  {
   "cell_type": "markdown",
   "id": "a7f441d7",
   "metadata": {
    "heading_collapsed": true
   },
   "source": [
    "# Encoding & scaling variables"
   ]
  },
  {
   "cell_type": "markdown",
   "id": "d3531557",
   "metadata": {
    "hidden": true
   },
   "source": [
    "## Primary use to encode"
   ]
  },
  {
   "cell_type": "markdown",
   "id": "dabe0a61",
   "metadata": {
    "hidden": true
   },
   "source": [
    "## Scaling for some features?"
   ]
  },
  {
   "cell_type": "markdown",
   "id": "f72f95d0",
   "metadata": {
    "heading_collapsed": true
   },
   "source": [
    "# Handling missing values"
   ]
  },
  {
   "cell_type": "markdown",
   "id": "2a0fb567",
   "metadata": {
    "hidden": true
   },
   "source": [
    "## floor count"
   ]
  },
  {
   "cell_type": "markdown",
   "id": "7b67d86a",
   "metadata": {
    "hidden": true
   },
   "source": [
    "## year built"
   ]
  },
  {
   "cell_type": "markdown",
   "id": "e7d7b703",
   "metadata": {
    "hidden": true
   },
   "source": [
    "## cloud coverage and other weather: interpolation?"
   ]
  },
  {
   "cell_type": "markdown",
   "id": "f91d9bbd",
   "metadata": {
    "heading_collapsed": true
   },
   "source": [
    "# Wrangling the data (esp. target)"
   ]
  },
  {
   "cell_type": "markdown",
   "id": "3adaa3e4",
   "metadata": {
    "hidden": true
   },
   "source": [
    "## Meters data skewed by outliers → remove"
   ]
  },
  {
   "cell_type": "markdown",
   "id": "af01577e",
   "metadata": {
    "hidden": true
   },
   "source": [
    "## Log transforming of meter readings"
   ]
  },
  {
   "cell_type": "markdown",
   "id": "51ebc566",
   "metadata": {
    "hidden": true
   },
   "source": [
    "## Strange data in some meters readings"
   ]
  },
  {
   "cell_type": "markdown",
   "id": "fb39663f",
   "metadata": {},
   "source": [
    "# Other"
   ]
  },
  {
   "cell_type": "markdown",
   "id": "343b962b",
   "metadata": {},
   "source": []
  },
  {
   "cell_type": "markdown",
   "id": "a1728ef8",
   "metadata": {},
   "source": []
  },
  {
   "cell_type": "markdown",
   "id": "6bb5a47e",
   "metadata": {},
   "source": []
  }
 ],
 "metadata": {
  "kernelspec": {
   "display_name": "Python 3 (ipykernel)",
   "language": "python",
   "name": "python3"
  },
  "language_info": {
   "codemirror_mode": {
    "name": "ipython",
    "version": 3
   },
   "file_extension": ".py",
   "mimetype": "text/x-python",
   "name": "python",
   "nbconvert_exporter": "python",
   "pygments_lexer": "ipython3",
   "version": "3.8.12"
  },
  "toc": {
   "base_numbering": 1,
   "nav_menu": {},
   "number_sections": true,
   "sideBar": true,
   "skip_h1_title": false,
   "title_cell": "Table of Contents",
   "title_sidebar": "Contents",
   "toc_cell": false,
   "toc_position": {
    "height": "calc(100% - 180px)",
    "left": "10px",
    "top": "150px",
    "width": "288px"
   },
   "toc_section_display": true,
   "toc_window_display": true
  }
 },
 "nbformat": 4,
 "nbformat_minor": 5
}
