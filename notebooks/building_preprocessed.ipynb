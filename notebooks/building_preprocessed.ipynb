{
 "cells": [
  {
   "cell_type": "code",
   "execution_count": 1,
   "id": "eb502154",
   "metadata": {},
   "outputs": [],
   "source": [
    "import numpy as np # linear algebra\n",
    "import pandas as pd # data processing, CSV file I/O (e.g. pd.read_csv)\n",
    "import matplotlib.pyplot as plt\n",
    "import seaborn as sns\n",
    "import gc, math"
   ]
  },
  {
   "cell_type": "code",
   "execution_count": null,
   "id": "53e4df36",
   "metadata": {},
   "outputs": [],
   "source": [
    "metadata_df = pd.read_csv('../raw_data/building_metadata.csv')\n",
    "le = LabelEncoder()\n",
    "metadata_df['primary_use'] = le.fit_transform(metadata_df['primary_use'])\n",
    "\n",
    "\n",
    "metadata_df['year_built'] = metadata_df['year_built'].fillna(value=1968)\n",
    "metadata_df['floor_count'] = metadata_df['floor_count'].fillna(value=4)"
   ]
  },
  {
   "cell_type": "code",
   "execution_count": null,
   "id": "e11bf34c",
   "metadata": {},
   "outputs": [],
   "source": [
    "metadata_df.to_csv(\"../raw_data/building_preproc.csv\")"
   ]
  },
  {
   "cell_type": "code",
   "execution_count": null,
   "id": "964fe739",
   "metadata": {},
   "outputs": [],
   "source": [
    "metadata_df.to_csv(\"../raw_data/building_preproc.csv\")"
   ]
  }
 ],
 "metadata": {
  "kernelspec": {
   "display_name": "Python 3 (ipykernel)",
   "language": "python",
   "name": "python3"
  },
  "language_info": {
   "codemirror_mode": {
    "name": "ipython",
    "version": 3
   },
   "file_extension": ".py",
   "mimetype": "text/x-python",
   "name": "python",
   "nbconvert_exporter": "python",
   "pygments_lexer": "ipython3",
   "version": "3.8.12"
  },
  "toc": {
   "base_numbering": 1,
   "nav_menu": {},
   "number_sections": true,
   "sideBar": true,
   "skip_h1_title": false,
   "title_cell": "Table of Contents",
   "title_sidebar": "Contents",
   "toc_cell": false,
   "toc_position": {},
   "toc_section_display": true,
   "toc_window_display": false
  }
 },
 "nbformat": 4,
 "nbformat_minor": 5
}
