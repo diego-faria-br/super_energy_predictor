{
 "cells": [
  {
   "cell_type": "markdown",
   "metadata": {},
   "source": [
    "# Introduction\n",
    "In this competition, we have to develop accurate models of metered building energy usage in the following areas: chilled water, electric, hot water, and steam meters. The data comes from over 1,000 buildings over a three-year timeframe. With better estimates of these energy-saving investments, large scale investors and financial institutions will be more inclined to invest in this area to enable progress in building efficiencies.\n",
    "\n",
    "**About the Host**\n",
    "![](https://www.googleapis.com/download/storage/v1/b/kaggle-user-content/o/inbox%2F1095143%2Ff9ab8963dea5e7c1716f47310daa96ab%2FASHRAE_Logo_25.jpg?generation=1570808142334850&alt=media)\n",
    "\n",
    "Founded in 1894, ASHRAE serves to advance the arts and sciences of heating, ventilation, air conditioning refrigeration and their allied fields. ASHRAE members represent building system design and industrial process professionals around the world. With over 54,000 members serving in 132 countries, ASHRAE supports research, standards writing, publishing and continuing education - shaping tomorrow’s built environment today."
   ]
  },
  {
   "cell_type": "markdown",
   "metadata": {},
   "source": [
    "# 1. Importing Packages and Collecting Data"
   ]
  },
  {
   "cell_type": "code",
   "execution_count": null,
   "metadata": {},
   "outputs": [],
   "source": []
  },
  {
   "cell_type": "code",
   "execution_count": 2,
   "metadata": {
    "_cell_guid": "b1076dfc-b9ad-4769-8c92-a6c4dae69d19",
    "_uuid": "8f2839f25d086af736a60e9eeb907d3b93b6e0e5"
   },
   "outputs": [],
   "source": [
    "'''Importing Data Manipulattion Moduls'''\n",
    "import numpy as np\n",
    "import pandas as pd\n",
    "from scipy import stats\n",
    "import os, gc"
   ]
  },
  {
   "cell_type": "code",
   "execution_count": 23,
   "metadata": {
    "_cell_guid": "b1076dfc-b9ad-4769-8c92-a6c4dae69d19",
    "_uuid": "8f2839f25d086af736a60e9eeb907d3b93b6e0e5"
   },
   "outputs": [],
   "source": [
    "'''Seaborn and Matplotlib Visualization'''\n",
    "import matplotlib.pyplot as plt\n",
    "import seaborn as sns\n",
    "sns.set_style(\"whitegrid\")                    \n",
    "%matplotlib inline"
   ]
  },
  {
   "cell_type": "code",
   "execution_count": null,
   "metadata": {
    "_cell_guid": "b1076dfc-b9ad-4769-8c92-a6c4dae69d19",
    "_uuid": "8f2839f25d086af736a60e9eeb907d3b93b6e0e5"
   },
   "outputs": [],
   "source": [
    "'''plotly Visualization'''\n",
    "import plotly.offline as py\n",
    "from plotly.offline import iplot, init_notebook_mode\n",
    "import plotly.graph_objs as go\n",
    "init_notebook_mode(connected = True)"
   ]
  },
  {
   "cell_type": "code",
   "execution_count": 5,
   "metadata": {
    "_cell_guid": "b1076dfc-b9ad-4769-8c92-a6c4dae69d19",
    "_uuid": "8f2839f25d086af736a60e9eeb907d3b93b6e0e5"
   },
   "outputs": [],
   "source": [
    "'''Display markdown formatted output like bold, italic bold etc.'''\n",
    "from IPython.display import Markdown\n",
    "def bold(string):\n",
    "    display(Markdown(string))"
   ]
  },
  {
   "cell_type": "code",
   "execution_count": 3,
   "metadata": {},
   "outputs": [],
   "source": [
    "'''Read the dataset from csv file'''\n",
    "building = pd.read_csv('../raw_data/building_metadata.csv')\n",
    "weather_train = pd.read_csv('../raw_data/weather_train.csv')\n",
    "weather_test = pd.read_csv('../raw_data/weather_test.csv')\n",
    "train = pd.read_csv('../raw_data/train.csv') \n",
    "test = pd.read_csv('../raw_data/test.csv')"
   ]
  },
  {
   "cell_type": "markdown",
   "metadata": {},
   "source": [
    "# 2. Variable Description and Identification"
   ]
  },
  {
   "cell_type": "code",
   "execution_count": 6,
   "metadata": {},
   "outputs": [
    {
     "data": {
      "text/markdown": [
       "**Preview of building data**"
      ],
      "text/plain": [
       "<IPython.core.display.Markdown object>"
      ]
     },
     "metadata": {},
     "output_type": "display_data"
    },
    {
     "data": {
      "text/html": [
       "<div>\n",
       "<style scoped>\n",
       "    .dataframe tbody tr th:only-of-type {\n",
       "        vertical-align: middle;\n",
       "    }\n",
       "\n",
       "    .dataframe tbody tr th {\n",
       "        vertical-align: top;\n",
       "    }\n",
       "\n",
       "    .dataframe thead th {\n",
       "        text-align: right;\n",
       "    }\n",
       "</style>\n",
       "<table border=\"1\" class=\"dataframe\">\n",
       "  <thead>\n",
       "    <tr style=\"text-align: right;\">\n",
       "      <th></th>\n",
       "      <th>site_id</th>\n",
       "      <th>building_id</th>\n",
       "      <th>primary_use</th>\n",
       "      <th>square_feet</th>\n",
       "      <th>year_built</th>\n",
       "      <th>floor_count</th>\n",
       "    </tr>\n",
       "  </thead>\n",
       "  <tbody>\n",
       "    <tr>\n",
       "      <th>0</th>\n",
       "      <td>0</td>\n",
       "      <td>0</td>\n",
       "      <td>Education</td>\n",
       "      <td>7432</td>\n",
       "      <td>2008.0</td>\n",
       "      <td>NaN</td>\n",
       "    </tr>\n",
       "    <tr>\n",
       "      <th>1</th>\n",
       "      <td>0</td>\n",
       "      <td>1</td>\n",
       "      <td>Education</td>\n",
       "      <td>2720</td>\n",
       "      <td>2004.0</td>\n",
       "      <td>NaN</td>\n",
       "    </tr>\n",
       "    <tr>\n",
       "      <th>2</th>\n",
       "      <td>0</td>\n",
       "      <td>2</td>\n",
       "      <td>Education</td>\n",
       "      <td>5376</td>\n",
       "      <td>1991.0</td>\n",
       "      <td>NaN</td>\n",
       "    </tr>\n",
       "  </tbody>\n",
       "</table>\n",
       "</div>"
      ],
      "text/plain": [
       "   site_id  building_id primary_use  square_feet  year_built  floor_count\n",
       "0        0            0   Education         7432      2008.0          NaN\n",
       "1        0            1   Education         2720      2004.0          NaN\n",
       "2        0            2   Education         5376      1991.0          NaN"
      ]
     },
     "metadata": {},
     "output_type": "display_data"
    },
    {
     "data": {
      "text/markdown": [
       "**Preview of Weather Train Data:**"
      ],
      "text/plain": [
       "<IPython.core.display.Markdown object>"
      ]
     },
     "metadata": {},
     "output_type": "display_data"
    },
    {
     "data": {
      "text/html": [
       "<div>\n",
       "<style scoped>\n",
       "    .dataframe tbody tr th:only-of-type {\n",
       "        vertical-align: middle;\n",
       "    }\n",
       "\n",
       "    .dataframe tbody tr th {\n",
       "        vertical-align: top;\n",
       "    }\n",
       "\n",
       "    .dataframe thead th {\n",
       "        text-align: right;\n",
       "    }\n",
       "</style>\n",
       "<table border=\"1\" class=\"dataframe\">\n",
       "  <thead>\n",
       "    <tr style=\"text-align: right;\">\n",
       "      <th></th>\n",
       "      <th>site_id</th>\n",
       "      <th>timestamp</th>\n",
       "      <th>air_temperature</th>\n",
       "      <th>cloud_coverage</th>\n",
       "      <th>dew_temperature</th>\n",
       "      <th>precip_depth_1_hr</th>\n",
       "      <th>sea_level_pressure</th>\n",
       "      <th>wind_direction</th>\n",
       "      <th>wind_speed</th>\n",
       "    </tr>\n",
       "  </thead>\n",
       "  <tbody>\n",
       "    <tr>\n",
       "      <th>0</th>\n",
       "      <td>0</td>\n",
       "      <td>2016-01-01 00:00:00</td>\n",
       "      <td>25.0</td>\n",
       "      <td>6.0</td>\n",
       "      <td>20.0</td>\n",
       "      <td>NaN</td>\n",
       "      <td>1019.7</td>\n",
       "      <td>0.0</td>\n",
       "      <td>0.0</td>\n",
       "    </tr>\n",
       "    <tr>\n",
       "      <th>1</th>\n",
       "      <td>0</td>\n",
       "      <td>2016-01-01 01:00:00</td>\n",
       "      <td>24.4</td>\n",
       "      <td>NaN</td>\n",
       "      <td>21.1</td>\n",
       "      <td>-1.0</td>\n",
       "      <td>1020.2</td>\n",
       "      <td>70.0</td>\n",
       "      <td>1.5</td>\n",
       "    </tr>\n",
       "    <tr>\n",
       "      <th>2</th>\n",
       "      <td>0</td>\n",
       "      <td>2016-01-01 02:00:00</td>\n",
       "      <td>22.8</td>\n",
       "      <td>2.0</td>\n",
       "      <td>21.1</td>\n",
       "      <td>0.0</td>\n",
       "      <td>1020.2</td>\n",
       "      <td>0.0</td>\n",
       "      <td>0.0</td>\n",
       "    </tr>\n",
       "  </tbody>\n",
       "</table>\n",
       "</div>"
      ],
      "text/plain": [
       "   site_id            timestamp  air_temperature  cloud_coverage  \\\n",
       "0        0  2016-01-01 00:00:00             25.0             6.0   \n",
       "1        0  2016-01-01 01:00:00             24.4             NaN   \n",
       "2        0  2016-01-01 02:00:00             22.8             2.0   \n",
       "\n",
       "   dew_temperature  precip_depth_1_hr  sea_level_pressure  wind_direction  \\\n",
       "0             20.0                NaN              1019.7             0.0   \n",
       "1             21.1               -1.0              1020.2            70.0   \n",
       "2             21.1                0.0              1020.2             0.0   \n",
       "\n",
       "   wind_speed  \n",
       "0         0.0  \n",
       "1         1.5  \n",
       "2         0.0  "
      ]
     },
     "metadata": {},
     "output_type": "display_data"
    },
    {
     "data": {
      "text/markdown": [
       "**Preview of Weather Test Data:**"
      ],
      "text/plain": [
       "<IPython.core.display.Markdown object>"
      ]
     },
     "metadata": {},
     "output_type": "display_data"
    },
    {
     "data": {
      "text/html": [
       "<div>\n",
       "<style scoped>\n",
       "    .dataframe tbody tr th:only-of-type {\n",
       "        vertical-align: middle;\n",
       "    }\n",
       "\n",
       "    .dataframe tbody tr th {\n",
       "        vertical-align: top;\n",
       "    }\n",
       "\n",
       "    .dataframe thead th {\n",
       "        text-align: right;\n",
       "    }\n",
       "</style>\n",
       "<table border=\"1\" class=\"dataframe\">\n",
       "  <thead>\n",
       "    <tr style=\"text-align: right;\">\n",
       "      <th></th>\n",
       "      <th>site_id</th>\n",
       "      <th>timestamp</th>\n",
       "      <th>air_temperature</th>\n",
       "      <th>cloud_coverage</th>\n",
       "      <th>dew_temperature</th>\n",
       "      <th>precip_depth_1_hr</th>\n",
       "      <th>sea_level_pressure</th>\n",
       "      <th>wind_direction</th>\n",
       "      <th>wind_speed</th>\n",
       "    </tr>\n",
       "  </thead>\n",
       "  <tbody>\n",
       "    <tr>\n",
       "      <th>0</th>\n",
       "      <td>0</td>\n",
       "      <td>2017-01-01 00:00:00</td>\n",
       "      <td>17.8</td>\n",
       "      <td>4.0</td>\n",
       "      <td>11.7</td>\n",
       "      <td>NaN</td>\n",
       "      <td>1021.4</td>\n",
       "      <td>100.0</td>\n",
       "      <td>3.6</td>\n",
       "    </tr>\n",
       "    <tr>\n",
       "      <th>1</th>\n",
       "      <td>0</td>\n",
       "      <td>2017-01-01 01:00:00</td>\n",
       "      <td>17.8</td>\n",
       "      <td>2.0</td>\n",
       "      <td>12.8</td>\n",
       "      <td>0.0</td>\n",
       "      <td>1022.0</td>\n",
       "      <td>130.0</td>\n",
       "      <td>3.1</td>\n",
       "    </tr>\n",
       "    <tr>\n",
       "      <th>2</th>\n",
       "      <td>0</td>\n",
       "      <td>2017-01-01 02:00:00</td>\n",
       "      <td>16.1</td>\n",
       "      <td>0.0</td>\n",
       "      <td>12.8</td>\n",
       "      <td>0.0</td>\n",
       "      <td>1021.9</td>\n",
       "      <td>140.0</td>\n",
       "      <td>3.1</td>\n",
       "    </tr>\n",
       "  </tbody>\n",
       "</table>\n",
       "</div>"
      ],
      "text/plain": [
       "   site_id            timestamp  air_temperature  cloud_coverage  \\\n",
       "0        0  2017-01-01 00:00:00             17.8             4.0   \n",
       "1        0  2017-01-01 01:00:00             17.8             2.0   \n",
       "2        0  2017-01-01 02:00:00             16.1             0.0   \n",
       "\n",
       "   dew_temperature  precip_depth_1_hr  sea_level_pressure  wind_direction  \\\n",
       "0             11.7                NaN              1021.4           100.0   \n",
       "1             12.8                0.0              1022.0           130.0   \n",
       "2             12.8                0.0              1021.9           140.0   \n",
       "\n",
       "   wind_speed  \n",
       "0         3.6  \n",
       "1         3.1  \n",
       "2         3.1  "
      ]
     },
     "metadata": {},
     "output_type": "display_data"
    },
    {
     "data": {
      "text/markdown": [
       "**Preview of Train Data:**"
      ],
      "text/plain": [
       "<IPython.core.display.Markdown object>"
      ]
     },
     "metadata": {},
     "output_type": "display_data"
    },
    {
     "data": {
      "text/html": [
       "<div>\n",
       "<style scoped>\n",
       "    .dataframe tbody tr th:only-of-type {\n",
       "        vertical-align: middle;\n",
       "    }\n",
       "\n",
       "    .dataframe tbody tr th {\n",
       "        vertical-align: top;\n",
       "    }\n",
       "\n",
       "    .dataframe thead th {\n",
       "        text-align: right;\n",
       "    }\n",
       "</style>\n",
       "<table border=\"1\" class=\"dataframe\">\n",
       "  <thead>\n",
       "    <tr style=\"text-align: right;\">\n",
       "      <th></th>\n",
       "      <th>building_id</th>\n",
       "      <th>meter</th>\n",
       "      <th>timestamp</th>\n",
       "      <th>meter_reading</th>\n",
       "    </tr>\n",
       "  </thead>\n",
       "  <tbody>\n",
       "    <tr>\n",
       "      <th>0</th>\n",
       "      <td>0</td>\n",
       "      <td>0</td>\n",
       "      <td>2016-01-01 00:00:00</td>\n",
       "      <td>0.0</td>\n",
       "    </tr>\n",
       "    <tr>\n",
       "      <th>1</th>\n",
       "      <td>1</td>\n",
       "      <td>0</td>\n",
       "      <td>2016-01-01 00:00:00</td>\n",
       "      <td>0.0</td>\n",
       "    </tr>\n",
       "    <tr>\n",
       "      <th>2</th>\n",
       "      <td>2</td>\n",
       "      <td>0</td>\n",
       "      <td>2016-01-01 00:00:00</td>\n",
       "      <td>0.0</td>\n",
       "    </tr>\n",
       "  </tbody>\n",
       "</table>\n",
       "</div>"
      ],
      "text/plain": [
       "   building_id  meter            timestamp  meter_reading\n",
       "0            0      0  2016-01-01 00:00:00            0.0\n",
       "1            1      0  2016-01-01 00:00:00            0.0\n",
       "2            2      0  2016-01-01 00:00:00            0.0"
      ]
     },
     "metadata": {},
     "output_type": "display_data"
    },
    {
     "data": {
      "text/markdown": [
       "**Preview of Test Data:**"
      ],
      "text/plain": [
       "<IPython.core.display.Markdown object>"
      ]
     },
     "metadata": {},
     "output_type": "display_data"
    },
    {
     "data": {
      "text/html": [
       "<div>\n",
       "<style scoped>\n",
       "    .dataframe tbody tr th:only-of-type {\n",
       "        vertical-align: middle;\n",
       "    }\n",
       "\n",
       "    .dataframe tbody tr th {\n",
       "        vertical-align: top;\n",
       "    }\n",
       "\n",
       "    .dataframe thead th {\n",
       "        text-align: right;\n",
       "    }\n",
       "</style>\n",
       "<table border=\"1\" class=\"dataframe\">\n",
       "  <thead>\n",
       "    <tr style=\"text-align: right;\">\n",
       "      <th></th>\n",
       "      <th>row_id</th>\n",
       "      <th>building_id</th>\n",
       "      <th>meter</th>\n",
       "      <th>timestamp</th>\n",
       "    </tr>\n",
       "  </thead>\n",
       "  <tbody>\n",
       "    <tr>\n",
       "      <th>0</th>\n",
       "      <td>0</td>\n",
       "      <td>0</td>\n",
       "      <td>0</td>\n",
       "      <td>2017-01-01 00:00:00</td>\n",
       "    </tr>\n",
       "    <tr>\n",
       "      <th>1</th>\n",
       "      <td>1</td>\n",
       "      <td>1</td>\n",
       "      <td>0</td>\n",
       "      <td>2017-01-01 00:00:00</td>\n",
       "    </tr>\n",
       "    <tr>\n",
       "      <th>2</th>\n",
       "      <td>2</td>\n",
       "      <td>2</td>\n",
       "      <td>0</td>\n",
       "      <td>2017-01-01 00:00:00</td>\n",
       "    </tr>\n",
       "  </tbody>\n",
       "</table>\n",
       "</div>"
      ],
      "text/plain": [
       "   row_id  building_id  meter            timestamp\n",
       "0       0            0      0  2017-01-01 00:00:00\n",
       "1       1            1      0  2017-01-01 00:00:00\n",
       "2       2            2      0  2017-01-01 00:00:00"
      ]
     },
     "metadata": {},
     "output_type": "display_data"
    }
   ],
   "source": [
    "'''Train and test data at a glance.'''\n",
    "bold('**Preview of building data**')\n",
    "display(building.head(3))\n",
    "bold('**Preview of Weather Train Data:**')\n",
    "display(weather_train.head(3))\n",
    "bold('**Preview of Weather Test Data:**')\n",
    "display(weather_test.head(3))\n",
    "bold('**Preview of Train Data:**')\n",
    "display(train.head(3))\n",
    "bold('**Preview of Test Data:**')\n",
    "display(test.head(3))"
   ]
  },
  {
   "cell_type": "code",
   "execution_count": 7,
   "metadata": {},
   "outputs": [
    {
     "data": {
      "text/markdown": [
       "**Shape of our train and test data**"
      ],
      "text/plain": [
       "<IPython.core.display.Markdown object>"
      ]
     },
     "metadata": {},
     "output_type": "display_data"
    },
    {
     "name": "stdout",
     "output_type": "stream",
     "text": [
      "Dimension of building: (1449, 6)\n",
      "Dimension of Weather train: (139773, 9)\n",
      "Dimension of Weather test: (277243, 9)\n",
      "Dimension of train: (20216100, 4)\n",
      "Dimension of test: (41697600, 4)\n"
     ]
    }
   ],
   "source": [
    "'''Dimension of train and test data'''\n",
    "bold('**Shape of our train and test data**')\n",
    "print('Dimension of building:', building.shape) \n",
    "print('Dimension of Weather train:',weather_train.shape) \n",
    "print('Dimension of Weather test:', weather_test.shape)\n",
    "print('Dimension of train:',train.shape) \n",
    "print('Dimension of test:',test.shape)"
   ]
  },
  {
   "cell_type": "code",
   "execution_count": 8,
   "metadata": {},
   "outputs": [],
   "source": [
    "'''Merging datasets'''\n",
    "train = train.merge(building, on = 'building_id', how = 'left')\n",
    "test = test.merge(building, on = 'building_id', how = 'left')\n",
    "\n",
    "train = train.merge(weather_train, on = ['site_id', 'timestamp'], how = 'left')\n",
    "test = test.merge(weather_test, on = ['site_id', 'timestamp'], how = 'left')\n",
    "\n",
    "del weather_train, weather_test,building"
   ]
  },
  {
   "cell_type": "code",
   "execution_count": 9,
   "metadata": {},
   "outputs": [],
   "source": [
    "'''Function to reduce the DF size'''\n",
    "# source: https://www.kaggle.com/kernels/scriptcontent/3684066/download\n",
    "\n",
    "def reduce_mem_usage(df):\n",
    "    \"\"\" iterate through all the columns of a dataframe and modify the data type\n",
    "        to reduce memory usage.        \n",
    "    \"\"\"\n",
    "    start_mem = df.memory_usage().sum() / 1024**2\n",
    "    print('Memory usage of dataframe is {:.2f} MB'.format(start_mem))\n",
    "    \n",
    "    for col in df.columns:\n",
    "        col_type = df[col].dtype\n",
    "        \n",
    "        if col_type != object:\n",
    "            c_min = df[col].min()\n",
    "            c_max = df[col].max()\n",
    "            if str(col_type)[:3] == 'int':\n",
    "                if c_min > np.iinfo(np.int8).min and c_max < np.iinfo(np.int8).max:\n",
    "                    df[col] = df[col].astype(np.int8)\n",
    "                elif c_min > np.iinfo(np.int16).min and c_max < np.iinfo(np.int16).max:\n",
    "                    df[col] = df[col].astype(np.int16)\n",
    "                elif c_min > np.iinfo(np.int32).min and c_max < np.iinfo(np.int32).max:\n",
    "                    df[col] = df[col].astype(np.int32)\n",
    "                elif c_min > np.iinfo(np.int64).min and c_max < np.iinfo(np.int64).max:\n",
    "                    df[col] = df[col].astype(np.int64)  \n",
    "            else:\n",
    "                if c_min > np.finfo(np.float16).min and c_max < np.finfo(np.float16).max:\n",
    "                    df[col] = df[col].astype(np.float16)\n",
    "                elif c_min > np.finfo(np.float32).min and c_max < np.finfo(np.float32).max:\n",
    "                    df[col] = df[col].astype(np.float32)\n",
    "                else:\n",
    "                    df[col] = df[col].astype(np.float64)\n",
    "        else:\n",
    "            df[col] = df[col].astype('category')\n",
    "\n",
    "    end_mem = df.memory_usage().sum() / 1024**2\n",
    "    print('Memory usage after optimization is: {:.2f} MB'.format(end_mem))\n",
    "    print('Decreased by {:.1f}%'.format(100 * (start_mem - end_mem) / start_mem))\n",
    "    \n",
    "    return df"
   ]
  },
  {
   "cell_type": "code",
   "execution_count": 10,
   "metadata": {},
   "outputs": [
    {
     "name": "stdout",
     "output_type": "stream",
     "text": [
      "Memory usage of dataframe is 2622.02 MB\n",
      "Memory usage after optimization is: 790.78 MB\n",
      "Decreased by 69.8%\n",
      "Memory usage of dataframe is 5408.17 MB\n",
      "Memory usage after optimization is: 1631.04 MB\n",
      "Decreased by 69.8%\n"
     ]
    }
   ],
   "source": [
    "train = reduce_mem_usage(train)\n",
    "test = reduce_mem_usage(test)"
   ]
  },
  {
   "cell_type": "markdown",
   "metadata": {},
   "source": [
    "### Variable Desicription\n",
    "**Train**\n",
    "* *building_id* - Foreign key for the building metadata.\n",
    "* *meter* - The meter id code. Read as {0: electricity, 1: chilledwater, 2: steam, 3: hotwater}. Not every building has all meter types.\n",
    "* *timestamp* - When the measurement was taken\n",
    "* *meter_reading* - The target variable. Energy consumption in kWh (or equivalent). Note that this is real data with measurement error, which we expect will impose a baseline level of modeling error.\n",
    "\n",
    "**building_meta**\n",
    "* *site_id* - Foreign key for the weather files.\n",
    "* *building_id* - Foreign key for training.csv\n",
    "* *primary_use* - Indicator of the primary category of activities for the building based on EnergyStar property type definitions\n",
    "* *square_feet* - Gross floor area of the building\n",
    "* *year_built* - Year building was opened\n",
    "* *floor_count* - Number of floors of the building\n",
    "\n",
    "**weather_[train/test]**\n",
    "* Weather data from a meteorological station as close as possible to the site.\n",
    "* *air_temperature* - Degrees Celsius\n",
    "* *cloud_coverage* - Portion of the sky covered in clouds, in oktas\n",
    "* *dew_temperature* - Degrees Celsius\n",
    "* *precip_depth_1_hr* - Millimeters\n",
    "* *sea_level_pressure* - Millibar/hectopascals\n",
    "* *wind_direction* - Compass direction (0-360)\n",
    "* *wind_speed* - Meters per second"
   ]
  },
  {
   "cell_type": "code",
   "execution_count": 11,
   "metadata": {},
   "outputs": [],
   "source": [
    "'''Variable Description'''\n",
    "def description(df):\n",
    "    summary = pd.DataFrame(df.dtypes,columns=['dtypes'])\n",
    "    summary = summary.reset_index()\n",
    "    summary['Name'] = summary['index']\n",
    "    summary = summary[['Name','dtypes']]\n",
    "    summary['Missing'] = df.isnull().sum().values    \n",
    "    summary['Uniques'] = df.nunique().values\n",
    "    summary['First Value'] = df.iloc[0].values\n",
    "    summary['Second Value'] = df.iloc[1].values\n",
    "    summary['Third Value'] = df.iloc[2].values\n",
    "    return summary"
   ]
  },
  {
   "cell_type": "code",
   "execution_count": 12,
   "metadata": {},
   "outputs": [
    {
     "data": {
      "text/markdown": [
       "**Variable Description of  train Data:**"
      ],
      "text/plain": [
       "<IPython.core.display.Markdown object>"
      ]
     },
     "metadata": {},
     "output_type": "display_data"
    },
    {
     "data": {
      "text/html": [
       "<div>\n",
       "<style scoped>\n",
       "    .dataframe tbody tr th:only-of-type {\n",
       "        vertical-align: middle;\n",
       "    }\n",
       "\n",
       "    .dataframe tbody tr th {\n",
       "        vertical-align: top;\n",
       "    }\n",
       "\n",
       "    .dataframe thead th {\n",
       "        text-align: right;\n",
       "    }\n",
       "</style>\n",
       "<table border=\"1\" class=\"dataframe\">\n",
       "  <thead>\n",
       "    <tr style=\"text-align: right;\">\n",
       "      <th></th>\n",
       "      <th>Name</th>\n",
       "      <th>dtypes</th>\n",
       "      <th>Missing</th>\n",
       "      <th>Uniques</th>\n",
       "      <th>First Value</th>\n",
       "      <th>Second Value</th>\n",
       "      <th>Third Value</th>\n",
       "    </tr>\n",
       "  </thead>\n",
       "  <tbody>\n",
       "    <tr>\n",
       "      <th>0</th>\n",
       "      <td>building_id</td>\n",
       "      <td>int16</td>\n",
       "      <td>0</td>\n",
       "      <td>1449</td>\n",
       "      <td>0</td>\n",
       "      <td>1</td>\n",
       "      <td>2</td>\n",
       "    </tr>\n",
       "    <tr>\n",
       "      <th>1</th>\n",
       "      <td>meter</td>\n",
       "      <td>int8</td>\n",
       "      <td>0</td>\n",
       "      <td>4</td>\n",
       "      <td>0</td>\n",
       "      <td>0</td>\n",
       "      <td>0</td>\n",
       "    </tr>\n",
       "    <tr>\n",
       "      <th>2</th>\n",
       "      <td>timestamp</td>\n",
       "      <td>category</td>\n",
       "      <td>0</td>\n",
       "      <td>8784</td>\n",
       "      <td>2016-01-01 00:00:00</td>\n",
       "      <td>2016-01-01 00:00:00</td>\n",
       "      <td>2016-01-01 00:00:00</td>\n",
       "    </tr>\n",
       "    <tr>\n",
       "      <th>3</th>\n",
       "      <td>meter_reading</td>\n",
       "      <td>float32</td>\n",
       "      <td>0</td>\n",
       "      <td>1688175</td>\n",
       "      <td>0.0</td>\n",
       "      <td>0.0</td>\n",
       "      <td>0.0</td>\n",
       "    </tr>\n",
       "    <tr>\n",
       "      <th>4</th>\n",
       "      <td>site_id</td>\n",
       "      <td>int8</td>\n",
       "      <td>0</td>\n",
       "      <td>16</td>\n",
       "      <td>0</td>\n",
       "      <td>0</td>\n",
       "      <td>0</td>\n",
       "    </tr>\n",
       "    <tr>\n",
       "      <th>5</th>\n",
       "      <td>primary_use</td>\n",
       "      <td>category</td>\n",
       "      <td>0</td>\n",
       "      <td>16</td>\n",
       "      <td>Education</td>\n",
       "      <td>Education</td>\n",
       "      <td>Education</td>\n",
       "    </tr>\n",
       "    <tr>\n",
       "      <th>6</th>\n",
       "      <td>square_feet</td>\n",
       "      <td>int32</td>\n",
       "      <td>0</td>\n",
       "      <td>1397</td>\n",
       "      <td>7432</td>\n",
       "      <td>2720</td>\n",
       "      <td>5376</td>\n",
       "    </tr>\n",
       "    <tr>\n",
       "      <th>7</th>\n",
       "      <td>year_built</td>\n",
       "      <td>float16</td>\n",
       "      <td>12127645</td>\n",
       "      <td>116</td>\n",
       "      <td>2008.0</td>\n",
       "      <td>2004.0</td>\n",
       "      <td>1991.0</td>\n",
       "    </tr>\n",
       "    <tr>\n",
       "      <th>8</th>\n",
       "      <td>floor_count</td>\n",
       "      <td>float16</td>\n",
       "      <td>16709167</td>\n",
       "      <td>18</td>\n",
       "      <td>NaN</td>\n",
       "      <td>NaN</td>\n",
       "      <td>NaN</td>\n",
       "    </tr>\n",
       "    <tr>\n",
       "      <th>9</th>\n",
       "      <td>air_temperature</td>\n",
       "      <td>float16</td>\n",
       "      <td>96658</td>\n",
       "      <td>619</td>\n",
       "      <td>25.0</td>\n",
       "      <td>25.0</td>\n",
       "      <td>25.0</td>\n",
       "    </tr>\n",
       "    <tr>\n",
       "      <th>10</th>\n",
       "      <td>cloud_coverage</td>\n",
       "      <td>float16</td>\n",
       "      <td>8825365</td>\n",
       "      <td>10</td>\n",
       "      <td>6.0</td>\n",
       "      <td>6.0</td>\n",
       "      <td>6.0</td>\n",
       "    </tr>\n",
       "    <tr>\n",
       "      <th>11</th>\n",
       "      <td>dew_temperature</td>\n",
       "      <td>float16</td>\n",
       "      <td>100140</td>\n",
       "      <td>522</td>\n",
       "      <td>20.0</td>\n",
       "      <td>20.0</td>\n",
       "      <td>20.0</td>\n",
       "    </tr>\n",
       "    <tr>\n",
       "      <th>12</th>\n",
       "      <td>precip_depth_1_hr</td>\n",
       "      <td>float16</td>\n",
       "      <td>3749023</td>\n",
       "      <td>128</td>\n",
       "      <td>NaN</td>\n",
       "      <td>NaN</td>\n",
       "      <td>NaN</td>\n",
       "    </tr>\n",
       "    <tr>\n",
       "      <th>13</th>\n",
       "      <td>sea_level_pressure</td>\n",
       "      <td>float16</td>\n",
       "      <td>1231669</td>\n",
       "      <td>133</td>\n",
       "      <td>1019.5</td>\n",
       "      <td>1019.5</td>\n",
       "      <td>1019.5</td>\n",
       "    </tr>\n",
       "    <tr>\n",
       "      <th>14</th>\n",
       "      <td>wind_direction</td>\n",
       "      <td>float16</td>\n",
       "      <td>1449048</td>\n",
       "      <td>43</td>\n",
       "      <td>0.0</td>\n",
       "      <td>0.0</td>\n",
       "      <td>0.0</td>\n",
       "    </tr>\n",
       "    <tr>\n",
       "      <th>15</th>\n",
       "      <td>wind_speed</td>\n",
       "      <td>float16</td>\n",
       "      <td>143676</td>\n",
       "      <td>58</td>\n",
       "      <td>0.0</td>\n",
       "      <td>0.0</td>\n",
       "      <td>0.0</td>\n",
       "    </tr>\n",
       "  </tbody>\n",
       "</table>\n",
       "</div>"
      ],
      "text/plain": [
       "                  Name    dtypes   Missing  Uniques          First Value  \\\n",
       "0          building_id     int16         0     1449                    0   \n",
       "1                meter      int8         0        4                    0   \n",
       "2            timestamp  category         0     8784  2016-01-01 00:00:00   \n",
       "3        meter_reading   float32         0  1688175                  0.0   \n",
       "4              site_id      int8         0       16                    0   \n",
       "5          primary_use  category         0       16            Education   \n",
       "6          square_feet     int32         0     1397                 7432   \n",
       "7           year_built   float16  12127645      116               2008.0   \n",
       "8          floor_count   float16  16709167       18                  NaN   \n",
       "9      air_temperature   float16     96658      619                 25.0   \n",
       "10      cloud_coverage   float16   8825365       10                  6.0   \n",
       "11     dew_temperature   float16    100140      522                 20.0   \n",
       "12   precip_depth_1_hr   float16   3749023      128                  NaN   \n",
       "13  sea_level_pressure   float16   1231669      133               1019.5   \n",
       "14      wind_direction   float16   1449048       43                  0.0   \n",
       "15          wind_speed   float16    143676       58                  0.0   \n",
       "\n",
       "           Second Value          Third Value  \n",
       "0                     1                    2  \n",
       "1                     0                    0  \n",
       "2   2016-01-01 00:00:00  2016-01-01 00:00:00  \n",
       "3                   0.0                  0.0  \n",
       "4                     0                    0  \n",
       "5             Education            Education  \n",
       "6                  2720                 5376  \n",
       "7                2004.0               1991.0  \n",
       "8                   NaN                  NaN  \n",
       "9                  25.0                 25.0  \n",
       "10                  6.0                  6.0  \n",
       "11                 20.0                 20.0  \n",
       "12                  NaN                  NaN  \n",
       "13               1019.5               1019.5  \n",
       "14                  0.0                  0.0  \n",
       "15                  0.0                  0.0  "
      ]
     },
     "execution_count": 12,
     "metadata": {},
     "output_type": "execute_result"
    }
   ],
   "source": [
    "bold('**Variable Description of  train Data:**')\n",
    "description(train)"
   ]
  },
  {
   "cell_type": "code",
   "execution_count": 14,
   "metadata": {},
   "outputs": [
    {
     "data": {
      "text/markdown": [
       "**Variable Description of  train Data:**"
      ],
      "text/plain": [
       "<IPython.core.display.Markdown object>"
      ]
     },
     "metadata": {},
     "output_type": "display_data"
    },
    {
     "data": {
      "text/html": [
       "<div>\n",
       "<style scoped>\n",
       "    .dataframe tbody tr th:only-of-type {\n",
       "        vertical-align: middle;\n",
       "    }\n",
       "\n",
       "    .dataframe tbody tr th {\n",
       "        vertical-align: top;\n",
       "    }\n",
       "\n",
       "    .dataframe thead th {\n",
       "        text-align: right;\n",
       "    }\n",
       "</style>\n",
       "<table border=\"1\" class=\"dataframe\">\n",
       "  <thead>\n",
       "    <tr style=\"text-align: right;\">\n",
       "      <th></th>\n",
       "      <th>Name</th>\n",
       "      <th>dtypes</th>\n",
       "      <th>Missing</th>\n",
       "      <th>Uniques</th>\n",
       "      <th>First Value</th>\n",
       "      <th>Second Value</th>\n",
       "      <th>Third Value</th>\n",
       "    </tr>\n",
       "  </thead>\n",
       "  <tbody>\n",
       "    <tr>\n",
       "      <th>0</th>\n",
       "      <td>row_id</td>\n",
       "      <td>int32</td>\n",
       "      <td>0</td>\n",
       "      <td>41697600</td>\n",
       "      <td>0</td>\n",
       "      <td>1</td>\n",
       "      <td>2</td>\n",
       "    </tr>\n",
       "    <tr>\n",
       "      <th>1</th>\n",
       "      <td>building_id</td>\n",
       "      <td>int16</td>\n",
       "      <td>0</td>\n",
       "      <td>1449</td>\n",
       "      <td>0</td>\n",
       "      <td>1</td>\n",
       "      <td>2</td>\n",
       "    </tr>\n",
       "    <tr>\n",
       "      <th>2</th>\n",
       "      <td>meter</td>\n",
       "      <td>int8</td>\n",
       "      <td>0</td>\n",
       "      <td>4</td>\n",
       "      <td>0</td>\n",
       "      <td>0</td>\n",
       "      <td>0</td>\n",
       "    </tr>\n",
       "    <tr>\n",
       "      <th>3</th>\n",
       "      <td>timestamp</td>\n",
       "      <td>category</td>\n",
       "      <td>0</td>\n",
       "      <td>17520</td>\n",
       "      <td>2017-01-01 00:00:00</td>\n",
       "      <td>2017-01-01 00:00:00</td>\n",
       "      <td>2017-01-01 00:00:00</td>\n",
       "    </tr>\n",
       "    <tr>\n",
       "      <th>4</th>\n",
       "      <td>site_id</td>\n",
       "      <td>int8</td>\n",
       "      <td>0</td>\n",
       "      <td>16</td>\n",
       "      <td>0</td>\n",
       "      <td>0</td>\n",
       "      <td>0</td>\n",
       "    </tr>\n",
       "    <tr>\n",
       "      <th>5</th>\n",
       "      <td>primary_use</td>\n",
       "      <td>category</td>\n",
       "      <td>0</td>\n",
       "      <td>16</td>\n",
       "      <td>Education</td>\n",
       "      <td>Education</td>\n",
       "      <td>Education</td>\n",
       "    </tr>\n",
       "    <tr>\n",
       "      <th>6</th>\n",
       "      <td>square_feet</td>\n",
       "      <td>int32</td>\n",
       "      <td>0</td>\n",
       "      <td>1397</td>\n",
       "      <td>7432</td>\n",
       "      <td>2720</td>\n",
       "      <td>5376</td>\n",
       "    </tr>\n",
       "    <tr>\n",
       "      <th>7</th>\n",
       "      <td>year_built</td>\n",
       "      <td>float16</td>\n",
       "      <td>24598080</td>\n",
       "      <td>116</td>\n",
       "      <td>2008.0</td>\n",
       "      <td>2004.0</td>\n",
       "      <td>1991.0</td>\n",
       "    </tr>\n",
       "    <tr>\n",
       "      <th>8</th>\n",
       "      <td>floor_count</td>\n",
       "      <td>float16</td>\n",
       "      <td>34444320</td>\n",
       "      <td>18</td>\n",
       "      <td>NaN</td>\n",
       "      <td>NaN</td>\n",
       "      <td>NaN</td>\n",
       "    </tr>\n",
       "    <tr>\n",
       "      <th>9</th>\n",
       "      <td>air_temperature</td>\n",
       "      <td>float16</td>\n",
       "      <td>221901</td>\n",
       "      <td>639</td>\n",
       "      <td>17.796875</td>\n",
       "      <td>17.796875</td>\n",
       "      <td>17.796875</td>\n",
       "    </tr>\n",
       "    <tr>\n",
       "      <th>10</th>\n",
       "      <td>cloud_coverage</td>\n",
       "      <td>float16</td>\n",
       "      <td>19542180</td>\n",
       "      <td>10</td>\n",
       "      <td>4.0</td>\n",
       "      <td>4.0</td>\n",
       "      <td>4.0</td>\n",
       "    </tr>\n",
       "    <tr>\n",
       "      <th>11</th>\n",
       "      <td>dew_temperature</td>\n",
       "      <td>float16</td>\n",
       "      <td>260799</td>\n",
       "      <td>559</td>\n",
       "      <td>11.703125</td>\n",
       "      <td>11.703125</td>\n",
       "      <td>11.703125</td>\n",
       "    </tr>\n",
       "    <tr>\n",
       "      <th>12</th>\n",
       "      <td>precip_depth_1_hr</td>\n",
       "      <td>float16</td>\n",
       "      <td>7801563</td>\n",
       "      <td>174</td>\n",
       "      <td>NaN</td>\n",
       "      <td>NaN</td>\n",
       "      <td>NaN</td>\n",
       "    </tr>\n",
       "    <tr>\n",
       "      <th>13</th>\n",
       "      <td>sea_level_pressure</td>\n",
       "      <td>float16</td>\n",
       "      <td>2516826</td>\n",
       "      <td>130</td>\n",
       "      <td>1021.5</td>\n",
       "      <td>1021.5</td>\n",
       "      <td>1021.5</td>\n",
       "    </tr>\n",
       "    <tr>\n",
       "      <th>14</th>\n",
       "      <td>wind_direction</td>\n",
       "      <td>float16</td>\n",
       "      <td>2978663</td>\n",
       "      <td>60</td>\n",
       "      <td>100.0</td>\n",
       "      <td>100.0</td>\n",
       "      <td>100.0</td>\n",
       "    </tr>\n",
       "    <tr>\n",
       "      <th>15</th>\n",
       "      <td>wind_speed</td>\n",
       "      <td>float16</td>\n",
       "      <td>302089</td>\n",
       "      <td>78</td>\n",
       "      <td>3.599609</td>\n",
       "      <td>3.599609</td>\n",
       "      <td>3.599609</td>\n",
       "    </tr>\n",
       "  </tbody>\n",
       "</table>\n",
       "</div>"
      ],
      "text/plain": [
       "                  Name    dtypes   Missing   Uniques          First Value  \\\n",
       "0               row_id     int32         0  41697600                    0   \n",
       "1          building_id     int16         0      1449                    0   \n",
       "2                meter      int8         0         4                    0   \n",
       "3            timestamp  category         0     17520  2017-01-01 00:00:00   \n",
       "4              site_id      int8         0        16                    0   \n",
       "5          primary_use  category         0        16            Education   \n",
       "6          square_feet     int32         0      1397                 7432   \n",
       "7           year_built   float16  24598080       116               2008.0   \n",
       "8          floor_count   float16  34444320        18                  NaN   \n",
       "9      air_temperature   float16    221901       639            17.796875   \n",
       "10      cloud_coverage   float16  19542180        10                  4.0   \n",
       "11     dew_temperature   float16    260799       559            11.703125   \n",
       "12   precip_depth_1_hr   float16   7801563       174                  NaN   \n",
       "13  sea_level_pressure   float16   2516826       130               1021.5   \n",
       "14      wind_direction   float16   2978663        60                100.0   \n",
       "15          wind_speed   float16    302089        78             3.599609   \n",
       "\n",
       "           Second Value          Third Value  \n",
       "0                     1                    2  \n",
       "1                     1                    2  \n",
       "2                     0                    0  \n",
       "3   2017-01-01 00:00:00  2017-01-01 00:00:00  \n",
       "4                     0                    0  \n",
       "5             Education            Education  \n",
       "6                  2720                 5376  \n",
       "7                2004.0               1991.0  \n",
       "8                   NaN                  NaN  \n",
       "9             17.796875            17.796875  \n",
       "10                  4.0                  4.0  \n",
       "11            11.703125            11.703125  \n",
       "12                  NaN                  NaN  \n",
       "13               1021.5               1021.5  \n",
       "14                100.0                100.0  \n",
       "15             3.599609             3.599609  "
      ]
     },
     "execution_count": 14,
     "metadata": {},
     "output_type": "execute_result"
    }
   ],
   "source": [
    "bold('**Variable Description of  train Data:**')\n",
    "description(test)"
   ]
  },
  {
   "cell_type": "markdown",
   "metadata": {},
   "source": [
    "**Well! we have lot of missing value in the both train and test data.**"
   ]
  },
  {
   "cell_type": "markdown",
   "metadata": {},
   "source": [
    "# Feature Engineering - Part I\n",
    "The code block below will be expanded on over time as I come up with some new features.\n",
    "\n",
    "Engineered features include:\n",
    "\n",
    "* Month of the year\n",
    "* Day of the week of the timestamp\n",
    "* Hour of the day"
   ]
  },
  {
   "cell_type": "code",
   "execution_count": 16,
   "metadata": {},
   "outputs": [],
   "source": [
    "train[\"timestamp\"] = pd.to_datetime(train[\"timestamp\"])"
   ]
  },
  {
   "cell_type": "code",
   "execution_count": null,
   "metadata": {},
   "outputs": [],
   "source": [
    "train.timestamp.dt.name"
   ]
  },
  {
   "cell_type": "code",
   "execution_count": 17,
   "metadata": {},
   "outputs": [],
   "source": [
    "train[\"hour\"] = np.uint8(train[\"timestamp\"].dt.hour)\n",
    "train[\"day\"] = np.uint8(train[\"timestamp\"].dt.day)\n",
    "#train[\"weekday_name\"] = train[\"timestamp\"].dt.weekday_name \n",
    "train[\"weekday\"] = np.uint8(train[\"timestamp\"].dt.weekday)\n",
    "train[\"month\"] = np.uint8(train[\"timestamp\"].dt.month)\n",
    "\n",
    "test[\"timestamp\"] = pd.to_datetime(test[\"timestamp\"])\n",
    "test[\"hour\"] = np.uint8(test[\"timestamp\"].dt.hour)\n",
    "test[\"day\"] = np.uint8(test[\"timestamp\"].dt.day)\n",
    "test[\"weekday\"] = np.uint8(test[\"timestamp\"].dt.weekday)\n",
    "test[\"month\"] = np.uint8(test[\"timestamp\"].dt.month)"
   ]
  },
  {
   "cell_type": "code",
   "execution_count": null,
   "metadata": {},
   "outputs": [],
   "source": [
    "#train['meter'].replace({0:\"Electricity\",1:\"ChilledWater\",2:\"Steam\",3:\"HotWater\"},inplace=True)\n",
    "#test['meter'].replace({0:\"Electricity\",1:\"ChilledWater\",2:\"Steam\",3:\"HotWater\"},inplace=True)"
   ]
  },
  {
   "cell_type": "markdown",
   "metadata": {},
   "source": [
    "# 3. Exploratory Data Analysis (EDA)"
   ]
  },
  {
   "cell_type": "markdown",
   "metadata": {},
   "source": [
    "## 3.1 Target Variable Analysis:- meter_reading"
   ]
  },
  {
   "cell_type": "code",
   "execution_count": 24,
   "metadata": {},
   "outputs": [],
   "source": [
    "'''Function to distribution plot'''\n",
    "def distplot(variable, color):\n",
    "    global ax\n",
    "    font_size = 16\n",
    "    title_size = 20\n",
    "    plt.rcParams['figure.figsize'] = (18, 10)\n",
    "    ax = sns.distplot(variable, color = color)\n",
    "    plt.xlabel('%s' %variable.name, fontsize = font_size)\n",
    "    plt.ylabel('Count ', fontsize = font_size)\n",
    "    plt.xticks(fontsize = font_size)\n",
    "    plt.yticks(fontsize = font_size)\n",
    "    plt.title(' Distribution of '+'%s' %variable.name, fontsize = title_size)\n",
    "    plt.show()"
   ]
  },
  {
   "cell_type": "code",
   "execution_count": 25,
   "metadata": {},
   "outputs": [
    {
     "name": "stderr",
     "output_type": "stream",
     "text": [
      "/var/folders/99/gh518qd1231cp1cqx_b4d36w0000gn/T/ipykernel_95690/2573588504.py:7: UserWarning: \n",
      "\n",
      "`distplot` is a deprecated function and will be removed in seaborn v0.14.0.\n",
      "\n",
      "Please adapt your code to use either `displot` (a figure-level function with\n",
      "similar flexibility) or `histplot` (an axes-level function for histograms).\n",
      "\n",
      "For a guide to updating your code to use the new functions, please see\n",
      "https://gist.github.com/mwaskom/de44147ed2974457ad6372750bbe5751\n",
      "\n",
      "  ax = sns.distplot(variable, color = color)\n"
     ]
    },
    {
     "data": {
      "image/png": "[encoded data removed]",
      "text/plain": [
       "<Figure size 1800x1000 with 1 Axes>"
      ]
     },
     "metadata": {},
     "output_type": "display_data"
    }
   ],
   "source": [
    "'''Distribution of the Meter Reading'''\n",
    "distplot(train['meter_reading'], 'teal')"
   ]
  },
  {
   "cell_type": "markdown",
   "metadata": {},
   "source": [
    "**It's seems that meter reading variable is heavily positive skewed with outliears.\n",
    "Let's fixed that.**\n"
   ]
  },
  {
   "cell_type": "code",
   "execution_count": 26,
   "metadata": {},
   "outputs": [
    {
     "data": {
      "text/plain": [
       "count    2.021610e+07\n",
       "mean     2.117122e+03\n",
       "std      1.532356e+05\n",
       "min      0.000000e+00\n",
       "25%      1.830000e+01\n",
       "50%      7.877500e+01\n",
       "75%      2.679840e+02\n",
       "max      2.190470e+07\n",
       "Name: meter_reading, dtype: float64"
      ]
     },
     "execution_count": 26,
     "metadata": {},
     "output_type": "execute_result"
    }
   ],
   "source": [
    "'''Summary of meter reading'''\n",
    "train['meter_reading'].describe()"
   ]
  },
  {
   "cell_type": "code",
   "execution_count": 27,
   "metadata": {},
   "outputs": [
    {
     "data": {
      "text/markdown": [
       "**Distribution after log tranformation**"
      ],
      "text/plain": [
       "<IPython.core.display.Markdown object>"
      ]
     },
     "metadata": {},
     "output_type": "display_data"
    },
    {
     "name": "stderr",
     "output_type": "stream",
     "text": [
      "/var/folders/99/gh518qd1231cp1cqx_b4d36w0000gn/T/ipykernel_95690/2573588504.py:7: UserWarning: \n",
      "\n",
      "`distplot` is a deprecated function and will be removed in seaborn v0.14.0.\n",
      "\n",
      "Please adapt your code to use either `displot` (a figure-level function with\n",
      "similar flexibility) or `histplot` (an axes-level function for histograms).\n",
      "\n",
      "For a guide to updating your code to use the new functions, please see\n",
      "https://gist.github.com/mwaskom/de44147ed2974457ad6372750bbe5751\n",
      "\n",
      "  ax = sns.distplot(variable, color = color)\n"
     ]
    },
    {
     "data": {
      "image/png": "[encoded data removed]",
      "text/plain": [
       "<Figure size 1800x1000 with 1 Axes>"
      ]
     },
     "metadata": {},
     "output_type": "display_data"
    }
   ],
   "source": [
    "'''Log tranformation of meter_reading'''\n",
    "train['meter_reading'] = np.log1p(train['meter_reading'])\n",
    "\n",
    "bold('**Distribution after log tranformation**')\n",
    "distplot(train['meter_reading'], 'teal')"
   ]
  },
  {
   "cell_type": "markdown",
   "metadata": {},
   "source": [
    "## 3.2 Meter Reading and Meter Type\n",
    "There are four different meter types and are displayed below:\n",
    "\n",
    "* 0: electricity\n",
    "* 1: chilledwater\n",
    "* 2: steam\n",
    "* 3: hotwater\n",
    "\n",
    "We can see that the steam meter type tends to have higher meter readings, while electricity tends to have the lowest energy readings."
   ]
  },
  {
   "cell_type": "code",
   "execution_count": 28,
   "metadata": {},
   "outputs": [
    {
     "data": {
      "text/markdown": [
       "**ELECTRICITY THE MOST FREQUENT METER TYPE MEASURED**"
      ],
      "text/plain": [
       "<IPython.core.display.Markdown object>"
      ]
     },
     "metadata": {},
     "output_type": "display_data"
    },
    {
     "data": {
      "image/png": "[encoded data removed]",
      "text/plain": [
       "<Figure size 1800x1000 with 1 Axes>"
      ]
     },
     "metadata": {},
     "output_type": "display_data"
    }
   ],
   "source": [
    "bold('**ELECTRICITY THE MOST FREQUENT METER TYPE MEASURED**')\n",
    "plt.rcParams['figure.figsize'] = (18, 10)\n",
    "ax = sns.countplot(data = train, x ='meter', palette = 'CMRmap', alpha = 0.5)\n",
    "ax.set_ylabel('Count', fontsize = 20)\n",
    "ax.set_xlabel('Meter Type', fontsize = 20)\n",
    "plt.show()"
   ]
  },
  {
   "cell_type": "code",
   "execution_count": 30,
   "metadata": {},
   "outputs": [
    {
     "data": {
      "text/markdown": [
       "**THE STEAM METER TYPE IS THE LEAST EFFICIENT, ELECTRICITY THE MOST EFFICIENT**"
      ],
      "text/plain": [
       "<IPython.core.display.Markdown object>"
      ]
     },
     "metadata": {},
     "output_type": "display_data"
    },
    {
     "name": "stderr",
     "output_type": "stream",
     "text": [
      "/var/folders/99/gh518qd1231cp1cqx_b4d36w0000gn/T/ipykernel_95690/2617933529.py:5: FutureWarning: \n",
      "\n",
      "`shade` is now deprecated in favor of `fill`; setting `fill=True`.\n",
      "This will become an error in seaborn v0.14.0; please update your code.\n",
      "\n",
      "  ax = sns.kdeplot(temp_df['meter_reading'], shade = True, label=\"electricity\")\n",
      "/var/folders/99/gh518qd1231cp1cqx_b4d36w0000gn/T/ipykernel_95690/2617933529.py:7: FutureWarning: \n",
      "\n",
      "`shade` is now deprecated in favor of `fill`; setting `fill=True`.\n",
      "This will become an error in seaborn v0.14.0; please update your code.\n",
      "\n",
      "  ax = sns.kdeplot(temp_df['meter_reading'], shade = True, label=\"chill water\", color = 'm')\n",
      "/var/folders/99/gh518qd1231cp1cqx_b4d36w0000gn/T/ipykernel_95690/2617933529.py:9: FutureWarning: \n",
      "\n",
      "`shade` is now deprecated in favor of `fill`; setting `fill=True`.\n",
      "This will become an error in seaborn v0.14.0; please update your code.\n",
      "\n",
      "  ax = sns.kdeplot(temp_df['meter_reading'], shade = True, label=\"steam\", color = 'lime')\n",
      "/var/folders/99/gh518qd1231cp1cqx_b4d36w0000gn/T/ipykernel_95690/2617933529.py:11: FutureWarning: \n",
      "\n",
      "`shade` is now deprecated in favor of `fill`; setting `fill=True`.\n",
      "This will become an error in seaborn v0.14.0; please update your code.\n",
      "\n",
      "  ax = sns.kdeplot(temp_df['meter_reading'], shade = True, label=\"hot water\", color = 'k')\n"
     ]
    },
    {
     "data": {
      "image/png": "[encoded data removed]",
      "text/plain": [
       "<Figure size 1800x1000 with 1 Axes>"
      ]
     },
     "metadata": {},
     "output_type": "display_data"
    }
   ],
   "source": [
    "bold('**THE STEAM METER TYPE IS THE LEAST EFFICIENT, ELECTRICITY THE MOST EFFICIENT**')\n",
    "plt.rcParams['figure.figsize'] = (18, 10)\n",
    "\n",
    "temp_df = train[train[\"meter\"]==0]\n",
    "ax = sns.kdeplot(temp_df['meter_reading'], shade = True, label=\"electricity\")\n",
    "temp_df = train[train[\"meter\"]==1]\n",
    "ax = sns.kdeplot(temp_df['meter_reading'], shade = True, label=\"chill water\", color = 'm')\n",
    "temp_df = train[train[\"meter\"]==2]\n",
    "ax = sns.kdeplot(temp_df['meter_reading'], shade = True, label=\"steam\", color = 'lime')\n",
    "temp_df = train[train[\"meter\"]==3]\n",
    "ax = sns.kdeplot(temp_df['meter_reading'], shade = True, label=\"hot water\", color = 'k')\n",
    "ax.set_xlabel('Log(Meter Reading)', fontsize = 20)\n",
    "plt.show()"
   ]
  },
  {
   "cell_type": "markdown",
   "metadata": {},
   "source": [
    "## 3.3 Weekday and Meter Reading"
   ]
  },
  {
   "cell_type": "code",
   "execution_count": 31,
   "metadata": {},
   "outputs": [
    {
     "data": {
      "text/markdown": [
       "**SUNDAYS HAVE THE LOWEST READINGS**"
      ],
      "text/plain": [
       "<IPython.core.display.Markdown object>"
      ]
     },
     "metadata": {},
     "output_type": "display_data"
    },
    {
     "data": {
      "image/png": "[encoded data removed]",
      "text/plain": [
       "<Figure size 1800x1000 with 1 Axes>"
      ]
     },
     "metadata": {},
     "output_type": "display_data"
    }
   ],
   "source": [
    "bold('**SUNDAYS HAVE THE LOWEST READINGS**')\n",
    "plt.rcParams['figure.figsize'] = (18, 10)\n",
    "ax = sns.boxplot(data = train, x ='weekday', y = 'meter_reading', color = 'teal', boxprops=dict(alpha=.3))\n",
    "ax.set_ylabel('Log(Meter Reading)', fontsize = 20)\n",
    "ax.set_xlabel('weekdays', fontsize = 20)\n",
    "plt.show()"
   ]
  },
  {
   "cell_type": "markdown",
   "metadata": {},
   "source": [
    "## 3.4 Time of Day and Meter Reading"
   ]
  },
  {
   "cell_type": "code",
   "execution_count": null,
   "metadata": {},
   "outputs": [],
   "source": [
    "bold('**READINGS HIGHEST DURING THE MIDDLE OF THE DAY**')\n",
    "plt.rcParams['figure.figsize'] = (18,10)\n",
    "temp_df = train.groupby('hour').meter_reading.sum()\n",
    "temp_df.plot(linewidth = 5, color = 'teal')\n",
    "plt.xlabel('Reading Hour', fontsize = 15)\n",
    "plt.ylabel('Meter Reading')\n",
    "plt.show()"
   ]
  },
  {
   "cell_type": "markdown",
   "metadata": {},
   "source": [
    "Reading are significantly higher during traditional work hours and this is to be expected. Time of day appears like it will be a significant predictor in any subsequent model for this competition."
   ]
  },
  {
   "cell_type": "markdown",
   "metadata": {},
   "source": [
    "# 3.5 Primary Use and Meter Reading"
   ]
  },
  {
   "cell_type": "code",
   "execution_count": null,
   "metadata": {},
   "outputs": [],
   "source": [
    "bold('**MONTHLY READINGS ARE HIGHEST CHANGES BASED ON BUILDING TYPE**')\n",
    "temp_df = train.groupby(['month', 'primary_use']).meter_reading.sum().reset_index()\n",
    "ax = sns.FacetGrid(temp_df, col=\"primary_use\", col_wrap=2, height=4, aspect=2,  sharey=False)\n",
    "ax.map(plt.plot, 'month', 'meter_reading', color=\"teal\", linewidth = 3)\n",
    "plt.subplots_adjust(hspace=0.45)\n",
    "plt.show()"
   ]
  },
  {
   "cell_type": "markdown",
   "metadata": {},
   "source": [
    "There are considerable differences between building types as to when meter readings are highest. Almost all the building peak in the end of the year due to winter season.\n",
    "\n",
    "The trend holds for most of the different building types, with a few notable exceptions; Manufacturing dips during that peak period outlined above, while Services, Technology, Utility and Warehouse remained fairly constant over the year."
   ]
  },
  {
   "cell_type": "code",
   "execution_count": null,
   "metadata": {},
   "outputs": [],
   "source": [
    "bold('**UTILITIES AND HEALTHCARE HAVE THE HIGHEST READINGS**')\n",
    "plt.rcParams['figure.figsize'] = (18, 15)\n",
    "ax = sns.boxplot(data = train, y ='primary_use', x = 'meter_reading', color = 'teal', boxprops=dict(alpha=.3))\n",
    "ax.set_xlabel('Log(Meter Reading)', fontsize = 20)\n",
    "ax.set_ylabel('primary_use', fontsize = 20)\n",
    "plt.show()"
   ]
  },
  {
   "cell_type": "markdown",
   "metadata": {},
   "source": [
    "We can see that Utility and Healthcare places tend to have the highest readings, while Religious Worship places the least - they’re no doubt frequented less often than the higher energy users."
   ]
  },
  {
   "cell_type": "code",
   "execution_count": null,
   "metadata": {},
   "outputs": [],
   "source": [
    "bold('**PLACES OF INDUSTRY HIGHEST READINGS ON WEEKDAYS**')\n",
    "ax = sns.FacetGrid(train, col=\"primary_use\", col_wrap=4, height=4, aspect=1,  sharex=False)\n",
    "ax.map(sns.boxplot, 'meter_reading', 'weekday_name', color=\"teal\",   boxprops=dict(alpha=.3))\n",
    "plt.subplots_adjust(hspace=0.45)\n",
    "plt.show()"
   ]
  },
  {
   "cell_type": "markdown",
   "metadata": {},
   "source": [
    "Healthcare, Education, Manufacturing/ Industrial, Techonology/science, Utilities building has highest reading on weekdays compares to the others.\n",
    "\n",
    "Religious worship places have higher readings on weekends.\n",
    "\n"
   ]
  },
  {
   "cell_type": "markdown",
   "metadata": {},
   "source": [
    "## 3.6 Meter Readings over time"
   ]
  },
  {
   "cell_type": "code",
   "execution_count": null,
   "metadata": {},
   "outputs": [],
   "source": [
    "bold('**READINGS REALLY PEAKED FROM MAY TO OCTOBER**')\n",
    "plt.rcParams['figure.figsize'] = (18,10)\n",
    "temp_df = train.groupby(['timestamp', 'month']).meter_reading.sum().reset_index()\n",
    "ax = sns.lineplot(data = temp_df, x = 'timestamp', y = 'meter_reading', color = 'teal')\n",
    "plt.xlabel('Timestamp', fontsize = 15)\n",
    "plt.ylabel('Meter Reading')\n",
    "plt.show()"
   ]
  },
  {
   "cell_type": "markdown",
   "metadata": {},
   "source": [
    "Interestingly, the meter reading per reading began rising in May and peaked between July and October 2016."
   ]
  },
  {
   "cell_type": "markdown",
   "metadata": {},
   "source": [
    "### Meter Readings over time And Primary Use"
   ]
  },
  {
   "cell_type": "code",
   "execution_count": null,
   "metadata": {},
   "outputs": [],
   "source": [
    "bold('**MANUFACTURING REALLY BUCKED THE GENERAL TREND**')\n",
    "temp_df = train.groupby(['timestamp', \"primary_use\"]).meter_reading.sum().reset_index()\n",
    "ax = sns.FacetGrid(temp_df, col=\"primary_use\", col_wrap=2, height=4, aspect=2,  sharey=False)\n",
    "ax.map(sns.lineplot,'timestamp',  'meter_reading', color=\"teal\")\n",
    "plt.subplots_adjust(hspace=0.45)\n",
    "plt.show()"
   ]
  },
  {
   "cell_type": "markdown",
   "metadata": {},
   "source": [
    "The trend holds for most of the different building types, with a few notable exceptions; Manufacturing dips during that peak period outlined above, while Services, Technology, Utility and Warehouse remained fairly constant over the year."
   ]
  },
  {
   "cell_type": "markdown",
   "metadata": {},
   "source": [
    "## 3.7 Correlation between meter_reading And Numeric Variable"
   ]
  },
  {
   "cell_type": "code",
   "execution_count": null,
   "metadata": {},
   "outputs": [],
   "source": [
    "plt.rcParams['figure.figsize'] = (18,10)\n",
    "sns.heatmap(train.corr(), vmin=-1, vmax=1, center=0,\n",
    "            square=True, cmap = sns.diverging_palette(20, 220, n=200))\n",
    "plt.show()"
   ]
  },
  {
   "cell_type": "markdown",
   "metadata": {},
   "source": [
    "Square feet and floor count highly positive correlated ie, the bigger the building, the higher the reading and year building build and meter type moderate positive correlated also.\n",
    "\n",
    "wind_speed, air_temperature and cloud_coverage may be important in any model that gets built."
   ]
  },
  {
   "cell_type": "markdown",
   "metadata": {},
   "source": [
    "## 3.8 Square Feet"
   ]
  },
  {
   "cell_type": "code",
   "execution_count": null,
   "metadata": {},
   "outputs": [],
   "source": [
    "'''Distribution of the Meter Reading'''\n",
    "distplot(train['square_feet'], 'darkgreen')"
   ]
  },
  {
   "cell_type": "markdown",
   "metadata": {},
   "source": [
    "Square feet size is positively Skewed."
   ]
  },
  {
   "cell_type": "code",
   "execution_count": null,
   "metadata": {},
   "outputs": [],
   "source": [
    "'''Log tranformation of meter_reading'''\n",
    "train['square_feet'] = np.log1p(train['square_feet'])\n",
    "test['square_feet'] = np.log1p(test['square_feet'])\n",
    "\n",
    "bold('**Distribution after log tranformation**')\n",
    "distplot(train['square_feet'], 'darkgreen')"
   ]
  },
  {
   "cell_type": "markdown",
   "metadata": {},
   "source": [
    "## 3.9 Year Built"
   ]
  },
  {
   "cell_type": "code",
   "execution_count": null,
   "metadata": {},
   "outputs": [],
   "source": [
    "plt.rcParams['figure.figsize'] = (18,10)\n",
    "temp_df = train.groupby('year_built').building_id.sum().reset_index()\n",
    "ax = sns.lineplot(data = temp_df, x = 'year_built', y = 'building_id', color = 'black', linewidth = 3.5)\n",
    "plt.xlabel('Year Built', fontsize = 15)\n",
    "plt.ylabel('Building_ID', fontsize = 15)\n",
    "plt.show()"
   ]
  },
  {
   "cell_type": "markdown",
   "metadata": {},
   "source": [
    "## 3.10 Floor Count"
   ]
  },
  {
   "cell_type": "code",
   "execution_count": null,
   "metadata": {},
   "outputs": [],
   "source": [
    "'''Distribution of the Meter Reading'''\n",
    "distplot(train['floor_count'].dropna(), 'darkred')"
   ]
  },
  {
   "cell_type": "markdown",
   "metadata": {},
   "source": [
    "There are 16,709,167 missing records in the floor_count variable. Of the 1449 unique building IDs, 1094 don’t have a floor count.\n",
    "\n",
    "Of those that do, we can see that there aren’t too many buildings with more than 10 floors, while the median number of floors is 3."
   ]
  },
  {
   "cell_type": "markdown",
   "metadata": {},
   "source": [
    "## 3.11 Air Temperature"
   ]
  },
  {
   "cell_type": "code",
   "execution_count": null,
   "metadata": {},
   "outputs": [],
   "source": [
    "plt.rcParams['figure.figsize'] = (18,10)\n",
    "sns.kdeplot(train['air_temperature'].dropna(), shade = True, color = 'gold')\n",
    "plt.xlabel('Air Temperature', fontsize = 15)\n",
    "plt.ylabel('Density', fontsize = 15)\n",
    "plt.show()"
   ]
  },
  {
   "cell_type": "markdown",
   "metadata": {},
   "source": [
    "Plotting the variable shows the variable to be fairly normally distributed, with the majority of recordings being between ~10 and 25 degrees."
   ]
  },
  {
   "cell_type": "markdown",
   "metadata": {},
   "source": [
    "## 3.12 Dew Temperature"
   ]
  },
  {
   "cell_type": "code",
   "execution_count": null,
   "metadata": {},
   "outputs": [],
   "source": [
    "plt.rcParams['figure.figsize'] = (18,10)\n",
    "sns.kdeplot(train['dew_temperature'].dropna(), shade = True, color = 'indigo')\n",
    "plt.xlabel('Dew Temperature', fontsize = 15)\n",
    "plt.ylabel('Density', fontsize = 15)\n",
    "plt.show()"
   ]
  },
  {
   "cell_type": "markdown",
   "metadata": {},
   "source": [
    "Plotting the variable shows the variable to be fairly normally distributed, with the majority of recordings being between ~13 and 25 degrees."
   ]
  },
  {
   "cell_type": "markdown",
   "metadata": {},
   "source": [
    "## 3.13 Wind Speed"
   ]
  },
  {
   "cell_type": "code",
   "execution_count": null,
   "metadata": {},
   "outputs": [],
   "source": [
    "plt.rcParams['figure.figsize'] = (18,10)\n",
    "sns.kdeplot(train['wind_speed'].dropna(), shade = True, color = 'peru')\n",
    "plt.xlabel('Wind Speed', fontsize = 15)\n",
    "plt.ylabel('Density', fontsize = 15)\n",
    "plt.show()"
   ]
  },
  {
   "cell_type": "markdown",
   "metadata": {},
   "source": [
    "Plotting the variable shows the variable to be fairly normally distributed, with the majority of recordings being between 1.5 and 3.5 Meters per second"
   ]
  },
  {
   "cell_type": "markdown",
   "metadata": {},
   "source": [
    "## 3.14 Wind direction & Wind speed\n",
    "In heatmap plot wind direction and wind speed are highly correlated. So, it is good to plot together.\n",
    "\n",
    "wind_direction - Compass direction (0-360)\n",
    "\n",
    "wind_speed - Meters per second\n",
    "\n",
    "Ok, plotting this is tricky, so I am going to do it using [this manual](https://gist.github.com/phobson/41b41bdd157a2bcf6e14)\n",
    "\n",
    "Code source: https://www.kaggle.com/nroman/eda-for-ashrae\n",
    "\n",
    "First of all: direction of 0° and 360° is the same thing. But both are presented in the datasets."
   ]
  },
  {
   "cell_type": "code",
   "execution_count": null,
   "metadata": {},
   "outputs": [],
   "source": [
    "def speed_labels(bins:list, units:str) -> list:   \n",
    "    labels = list()\n",
    "    for left, right in zip(bins[:-1], bins[1:]):\n",
    "        if left == bins[0]:\n",
    "            labels.append('calm'.format(right))\n",
    "        elif np.isinf(right):\n",
    "            labels.append('>{} {}'.format(left, units))\n",
    "        else:\n",
    "            labels.append('{} - {} {}'.format(left, right, units))\n",
    "    return labels\n",
    "\n",
    "def _convert_dir(directions, N=None):\n",
    "    if N is None:\n",
    "        N = directions.shape[0]\n",
    "    barDir = directions * np.pi/180. - np.pi/N\n",
    "    barWidth = 2 * np.pi / N\n",
    "    return barDir, barWidth\n",
    "\n",
    "spd_bins = [-1, 0, 5, 10, 15, 20, 25, 30, np.inf]\n",
    "spd_labels = speed_labels(spd_bins, units='m/s')\n",
    "\n",
    "dir_bins = np.arange(-7.5, 370, 15)\n",
    "dir_labels = (dir_bins[:-1] + dir_bins[1:]) / 2"
   ]
  },
  {
   "cell_type": "code",
   "execution_count": null,
   "metadata": {},
   "outputs": [],
   "source": [
    "calm_count = train[train['wind_speed'] == 0].shape[0]\n",
    "total_count = len(train)\n",
    "rose = (train.assign(WindSpd_bins=lambda df:\n",
    "            pd.cut(df['wind_speed'], bins=spd_bins, labels=spd_labels, right=True)).assign(WindDir_bins=lambda df: pd.cut(df['wind_direction'], bins=dir_bins, labels=dir_labels, right=False)).replace({'WindDir_bins': {360: 0}}).groupby(by=['WindSpd_bins', 'WindDir_bins']).size().unstack(level='WindSpd_bins').fillna(0).assign(calm=lambda df: calm_count / df.shape[0]).sort_index(axis=1).applymap(lambda x: x / total_count * 100))\n",
    "rose.drop(rose.index[0], inplace=True)\n",
    "directions = np.arange(0, 360, 15)"
   ]
  },
  {
   "cell_type": "code",
   "execution_count": null,
   "metadata": {},
   "outputs": [],
   "source": [
    "def wind_rose(rosedata, wind_dirs, palette=None):\n",
    "    if palette is None:\n",
    "        palette = sns.color_palette('inferno', n_colors=rosedata.shape[1])\n",
    "\n",
    "    bar_dir, bar_width = _convert_dir(wind_dirs)\n",
    "\n",
    "    fig, ax = plt.subplots(figsize=(10, 10), subplot_kw=dict(polar=True))\n",
    "    ax.set_theta_direction('clockwise')\n",
    "    ax.set_theta_zero_location('N')\n",
    "\n",
    "    for n, (c1, c2) in enumerate(zip(rosedata.columns[:-1], rosedata.columns[1:])):\n",
    "        if n == 0:\n",
    "            # first column only\n",
    "            ax.bar(bar_dir, rosedata[c1].values, \n",
    "                   width=bar_width,\n",
    "                   color=palette[0],\n",
    "                   edgecolor='none',\n",
    "                   label=c1,\n",
    "                   linewidth=0)\n",
    "            # all other columns\n",
    "        ax.bar(bar_dir, rosedata[c2].values, \n",
    "               width=bar_width, \n",
    "               bottom=rosedata.cumsum(axis=1)[c1].values,\n",
    "               color=palette[n+1],\n",
    "               edgecolor='none',\n",
    "               label=c2,\n",
    "               linewidth=0)\n",
    "\n",
    "    leg = ax.legend(loc=(0.75, 0.95), ncol=2)\n",
    "    xtl = ax.set_xticklabels(['N', 'NE', 'E', 'SE', 'S', 'SW', 'W', 'NW'])\n",
    "    \n",
    "    return fig\n"
   ]
  },
  {
   "cell_type": "markdown",
   "metadata": {},
   "source": [
    "This is a wind rose for TRAIN:"
   ]
  },
  {
   "cell_type": "code",
   "execution_count": null,
   "metadata": {},
   "outputs": [],
   "source": [
    "fig = wind_rose(rose, directions)"
   ]
  },
  {
   "cell_type": "markdown",
   "metadata": {},
   "source": [
    "# 4. Feature Engineering - Part II"
   ]
  },
  {
   "cell_type": "markdown",
   "metadata": {},
   "source": [
    "## 4.1 Imputing Missing variable"
   ]
  },
  {
   "cell_type": "code",
   "execution_count": null,
   "metadata": {},
   "outputs": [],
   "source": [
    "'''Imputing missing value of year build'''\n",
    "train['year_built'] = np.uint8(train['year_built']-1900, inplace = True)\n",
    "test['year_built'] = np.uint8(test['year_built']-1900, inplace = True)"
   ]
  },
  {
   "cell_type": "code",
   "execution_count": null,
   "metadata": {},
   "outputs": [],
   "source": [
    "'''The following variables are either discrete numerical or continuous numerical variables.So the will be imputed by median'''\n",
    "to_impute_by_median = train.loc[:, ['floor_count','air_temperature', 'cloud_coverage', 'dew_temperature',\n",
    "                      'precip_depth_1_hr', 'sea_level_pressure', 'wind_direction','wind_speed']]\n",
    "for i in to_impute_by_median.columns:\n",
    "    train[i].fillna(train[i].median(), inplace = True)\n",
    "\n",
    "to_impute_by_median = test.loc[:, ['floor_count','air_temperature', 'cloud_coverage', 'dew_temperature',\n",
    "                      'precip_depth_1_hr', 'sea_level_pressure', 'wind_direction','wind_speed']]\n",
    "for i in to_impute_by_median.columns:\n",
    "    test[i].fillna(test[i].median(), inplace = True)"
   ]
  },
  {
   "cell_type": "markdown",
   "metadata": {},
   "source": [
    "## 4.2 Encoding Categorical Variable"
   ]
  },
  {
   "cell_type": "code",
   "execution_count": null,
   "metadata": {},
   "outputs": [],
   "source": [
    "'''Using sklearn's label encoder method'''\n",
    "from sklearn.preprocessing import LabelEncoder\n",
    "\n",
    "le = LabelEncoder()\n",
    "train['primary_use'] = le.fit_transform(train['primary_use'])\n",
    "test['primary_use'] = le.fit_transform(test['primary_use'])"
   ]
  },
  {
   "cell_type": "code",
   "execution_count": null,
   "metadata": {},
   "outputs": [],
   "source": [
    "'''Now extract the nominal variables for one hot encoding of train and test data.'''\n",
    "one_hot_train = pd.get_dummies(train['meter'])\n",
    "\n",
    "one_hot_test = pd.get_dummies(test['meter'])"
   ]
  },
  {
   "cell_type": "code",
   "execution_count": null,
   "metadata": {},
   "outputs": [],
   "source": [
    "'''Droping variable'''\n",
    "train.drop(columns=['meter', 'timestamp', 'weekday_name'], axis = 1, inplace = True)\n",
    "test.drop(columns=['meter', 'timestamp'], axis = 1, inplace = True)"
   ]
  },
  {
   "cell_type": "code",
   "execution_count": null,
   "metadata": {},
   "outputs": [],
   "source": [
    "\"\"\"Let's concate one hot encoded, other variables together.\"\"\"\n",
    "train_processed = pd.concat([one_hot_train, train], axis = 1)\n",
    "test_processed = pd.concat([one_hot_test, test], axis = 1)"
   ]
  },
  {
   "cell_type": "markdown",
   "metadata": {},
   "source": [
    "# Baseline"
   ]
  },
  {
   "cell_type": "code",
   "execution_count": null,
   "metadata": {},
   "outputs": [],
   "source": [
    "\"\"\"Let's look at our final train and test data for modelling.\"\"\"\n",
    "bold('**Updated train data for modelling:**')\n",
    "display(train_processed.head(3))\n",
    "bold('**Updated test data for modelling:**')\n",
    "display(test_processed.head(3))"
   ]
  },
  {
   "cell_type": "code",
   "execution_count": null,
   "metadata": {},
   "outputs": [],
   "source": [
    "'''Setting train, test and target for model'''\n",
    "target = train_processed['meter_reading']\n",
    "train = train_processed.drop(['meter_reading'], axis = 1)\n",
    "test = test_processed.drop(['row_id'], axis = 1)"
   ]
  },
  {
   "cell_type": "code",
   "execution_count": null,
   "metadata": {},
   "outputs": [],
   "source": [
    "\"\"\"Let's have a final look at our data\"\"\"\n",
    "bold('**Data Dimension for Model Building:**')\n",
    "print('Input matrix dimension:', train.shape)\n",
    "print('Output vector dimension:',target.shape)\n",
    "print('Test data dimension:', test.shape)"
   ]
  },
  {
   "cell_type": "code",
   "execution_count": null,
   "metadata": {},
   "outputs": [],
   "source": [
    "cat_feat = ['ChilledWater', 'Electricity', 'HotWater', 'Steam',\"site_id\", \"building_id\", \"primary_use\", \"hour\", \"weekday\", \"wind_direction\"]"
   ]
  },
  {
   "cell_type": "markdown",
   "metadata": {},
   "source": [
    "# Modeling simple LGBM"
   ]
  },
  {
   "cell_type": "code",
   "execution_count": null,
   "metadata": {},
   "outputs": [],
   "source": [
    "from sklearn.metrics import mean_squared_error\n",
    "import lightgbm as lgb\n",
    "from sklearn.model_selection import KFold, StratifiedKFold\n",
    "from tqdm import tqdm\n",
    "\n",
    "params = {\n",
    "            'boosting_type': 'gbdt',\n",
    "            'objective': 'regression',\n",
    "            'metric': {'rmse'},\n",
    "            'subsample': 0.25,\n",
    "            'subsample_freq': 1,\n",
    "            'learning_rate': 0.3,\n",
    "            'num_leaves': 20,\n",
    "            'feature_fraction': 0.9,\n",
    "            'lambda_l1': 1,  \n",
    "            'lambda_l2': 1\n",
    "            }\n",
    "\n",
    "folds = 4\n",
    "seed = 55\n",
    "kf = StratifiedKFold(n_splits=folds, shuffle=True, random_state=seed)\n",
    "# oof_pred = np.zeros(train.shape[0])  # out of fold predictions\n",
    "models = []\n",
    "\n",
    "## stratify data by building_id\n",
    "for train_index, val_index in tqdm(kf.split(train, train['building_id']), total=folds):\n",
    "    train_X = train.iloc[train_index]\n",
    "    val_X = train.iloc[val_index]\n",
    "    train_y = target.iloc[train_index]\n",
    "    val_y = target.iloc[val_index]\n",
    "    lgb_train = lgb.Dataset(train_X, train_y, categorical_feature=cat_feat)\n",
    "    lgb_eval = lgb.Dataset(val_X, val_y, categorical_feature=cat_feat)\n",
    "    gbm = lgb.train(params,\n",
    "                lgb_train,\n",
    "                num_boost_round=500,\n",
    "                valid_sets=(lgb_train, lgb_eval),\n",
    "                early_stopping_rounds=100,\n",
    "                verbose_eval = 100)\n",
    "    models.append(gbm)"
   ]
  },
  {
   "cell_type": "code",
   "execution_count": null,
   "metadata": {},
   "outputs": [],
   "source": [
    "plt.rcParams['figure.figsize'] = (18,10)\n",
    "lgb.plot_importance(models[0], importance_type='gain')\n",
    "plt.show()"
   ]
  },
  {
   "cell_type": "markdown",
   "metadata": {},
   "source": [
    "# Prediction and Submission"
   ]
  },
  {
   "cell_type": "code",
   "execution_count": null,
   "metadata": {},
   "outputs": [],
   "source": [
    "i=0\n",
    "result=[]\n",
    "step_size = 50000\n",
    "for j in tqdm(range(int(np.ceil(test.shape[0]/50000)))):\n",
    "    result.append(np.expm1(sum([model.predict(test.iloc[i:i+step_size]) for model in models])/folds))\n",
    "    i+=step_size"
   ]
  },
  {
   "cell_type": "code",
   "execution_count": null,
   "metadata": {},
   "outputs": [],
   "source": [
    "'''Submission'''\n",
    "result = np.concatenate(result)\n",
    "submission = pd.read_csv(\"../input/ashrae-energy-prediction/sample_submission.csv\")\n",
    "submission[\"meter_reading\"] = result\n",
    "submission.to_csv(\"submission.csv\", index = False)"
   ]
  },
  {
   "cell_type": "markdown",
   "metadata": {},
   "source": [
    "# <font color='teal'>Give me your feedback and if you find my kernel helpful please UPVOTE will be appreciated.</font> "
   ]
  }
 ],
 "metadata": {
  "kernelspec": {
   "display_name": "Python 3 (ipykernel)",
   "language": "python",
   "name": "python3"
  },
  "language_info": {
   "codemirror_mode": {
    "name": "ipython",
    "version": 3
   },
   "file_extension": ".py",
   "mimetype": "text/x-python",
   "name": "python",
   "nbconvert_exporter": "python",
   "pygments_lexer": "ipython3",
   "version": "3.8.12"
  },
  "toc": {
   "base_numbering": 1,
   "nav_menu": {},
   "number_sections": true,
   "sideBar": true,
   "skip_h1_title": false,
   "title_cell": "Table of Contents",
   "title_sidebar": "Contents",
   "toc_cell": false,
   "toc_position": {},
   "toc_section_display": true,
   "toc_window_display": false
  }
 },
 "nbformat": 4,
 "nbformat_minor": 4
}
